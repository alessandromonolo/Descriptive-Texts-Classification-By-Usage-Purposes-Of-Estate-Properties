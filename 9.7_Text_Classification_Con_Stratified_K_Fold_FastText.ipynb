{
 "cells": [
  {
   "cell_type": "markdown",
   "id": "4cce13ac",
   "metadata": {},
   "source": [
    "Progetto: **Classificazione di testi descrittivi per destinazione d'uso, inerenti ai beni sottoposti ad aste giudiziarie italiane.**\n",
    "\n",
    "Studente: **Alessandro Monolo** | *10439147*\n",
    "\n",
    "Relatore: Marco Brambilla\n",
    "\n",
    "Referente aziendale: Simone Redaelli\n",
    "\n",
    "Master: Data Science & Artificial Intelligence\n",
    "\n",
    "Università: Politecnico di Milano\n",
    "\n",
    "<hr style=\"border:1px solid black\">\n",
    "\n",
    "## Predizioni per Text Classification con FastText\n",
    "\n",
    "\n",
    "- **1 Preparazione del data frame per il modello FastText, ricavando per ogni osservazione la _label_Class, cosi da poter predirre ogni classe per ogni osservazione presente nel dataframe;**\n",
    "    - Inoltre, in questo caso, è stato impiegato un data frame che non ha al proprio interno ne typos ne cifre nelle varie osservazioni;\n",
    "\n",
    "\n",
    "- **2 La fase di predizione è stata eseguita con il modello elaborato da Facebook chiamato FastText**.\n",
    "    - Il quale esegue una **text classification** per le sette categorie di beni presenti nel data frame. Anche in questo caso il data frame è altamente sbilanciato tra le varie classi presenti, quindi per far frontre a questa problematica si utilizza **Stratified K Fold** con 5 folds.\n",
    "\n",
    "\n",
    "- **3. Dopo l'esecuzione del modello, si valutano le predizioni con le metriche di valutazione:**\n",
    "    - **Precision, Recall & F1 Score**;\n",
    "    - **Confusion matrix**, per il controllo del **numero di predizioni corrette/errate** per ogni classe;\n",
    "    - **Classification report** per il controllo della metrica **F1 score relativa ad ogni classe**.\n",
    "\n",
    "\n",
    "- **4. Conclusioni.**\n",
    "\n",
    "\n",
    "- Link fasttext for text classification: https://fasttext.cc/docs/en/supervised-tutorial.html\n",
    "- Link post 1 medium: https://towardsdatascience.com/word2vec-glove-and-fasttext-explained-215a5cd4c06f\n",
    "- Link post 2 medium: https://medium.com/towards-data-science/fasttext-for-text-classification-a4b38cbff27c\n",
    "- Link post 3 medium: - Link: https://medium.com/@rukshanjayasekara/text-classification-with-fasttext-5cac26ce7bc6\n",
    "- Link github for text classification using fasttext: https://github.com/codebasics/nlp-tutorials/blob/main/18_fasttext_classification/fasttext_tutorial.ipynb\n",
    "\n",
    "<hr style=\"border:1px solid black\">\n",
    "\n",
    "**Importo le librerie che mi servono:**"
   ]
  },
  {
   "cell_type": "code",
   "execution_count": 1,
   "id": "2ccd3804",
   "metadata": {},
   "outputs": [],
   "source": [
    "import warnings\n",
    "import fasttext\n",
    "from cryptography.utils import CryptographyDeprecationWarning\n",
    "warnings.filterwarnings(\"ignore\", category=DeprecationWarning)\n",
    "warnings.filterwarnings(\"ignore\", category=CryptographyDeprecationWarning)\n",
    "warnings.filterwarnings(\"ignore\", category=DeprecationWarning)\n",
    "warnings.filterwarnings(\"ignore\", category=FutureWarning)"
   ]
  },
  {
   "cell_type": "code",
   "execution_count": 2,
   "id": "2e3c3858",
   "metadata": {},
   "outputs": [],
   "source": [
    "import pandas as pd\n",
    "import numpy as np\n",
    "import re\n",
    "import seaborn as sns\n",
    "import matplotlib.pyplot as plt\n",
    "from matplotlib import cm\n",
    "from PIL import Image\n",
    "import string\n",
    "import unicodedata\n",
    "from sklearn.model_selection import train_test_split\n",
    "import nltk\n",
    "from nltk.stem import WordNetLemmatizer\n",
    "from nltk.corpus import stopwords\n",
    "from sklearn.model_selection import StratifiedKFold, cross_val_score\n",
    "import gensim\n",
    "from gensim.models import word2vec\n",
    "from gensim.models.word2vec import Word2Vec\n",
    "import spacy\n",
    "import gensim.downloader as api\n",
    "from sklearn.metrics import precision_score, recall_score, f1_score, classification_report, confusion_matrix\n",
    "import random\n",
    "import csv"
   ]
  },
  {
   "cell_type": "markdown",
   "id": "1d056111",
   "metadata": {},
   "source": [
    "#### Set pandas options:"
   ]
  },
  {
   "cell_type": "code",
   "execution_count": 3,
   "id": "3aaadd40",
   "metadata": {},
   "outputs": [],
   "source": [
    "pd.set_option('display.max_colwidth', None)\n",
    "pd.options.display.max_rows = 5000\n",
    "pd.options.display.max_columns = 1000\n",
    "pd.options.display.float_format = '{:.4f}'.format\n",
    "pd.options.mode.chained_assignment = None"
   ]
  },
  {
   "cell_type": "markdown",
   "id": "0b70e184",
   "metadata": {},
   "source": [
    "**Importo file CSV**"
   ]
  },
  {
   "cell_type": "code",
   "execution_count": 4,
   "id": "0cbef24b",
   "metadata": {},
   "outputs": [],
   "source": [
    "df = pd.read_csv(\"D:\\\\Master_Cefriel_DS_AI_Monolo\\\\0_Project_Work\\\\Dataset\\\\13_Dataset_FastText\\\\Dataset_FastText.csv\")"
   ]
  },
  {
   "cell_type": "markdown",
   "id": "c23f19ec",
   "metadata": {},
   "source": [
    "### 1 - Preparazione del data frame per il modello FastText\n",
    "\n",
    "- **Mappo la colonna destinazione d'uso con le categorie in formato stringa**"
   ]
  },
  {
   "cell_type": "code",
   "execution_count": 5,
   "id": "652ccbe5",
   "metadata": {},
   "outputs": [],
   "source": [
    "mapping = {0: \"AGRICULTURAL_BUILDING\", 1: \"HOTEL\", 2: \"INDUSTRIAL\", 3: \"LAND\", 4: \"RESIDENTIAL\", 5: \"RETAIL\", 6: \"STORAGE\"}\n",
    "df['Destinazione_Uso_FastText'] = df['Destinazione_Uso_Encoded'].map(mapping)\n",
    "df['Destinazione_Uso_FastText'] = df['Destinazione_Uso_FastText'].str.lower()"
   ]
  },
  {
   "cell_type": "markdown",
   "id": "ff07c5e6",
   "metadata": {},
   "source": [
    "#### Creo una nuova colonna contenente sia la label della classe sia la descrizione, utile per trainare il modello con FastText"
   ]
  },
  {
   "cell_type": "code",
   "execution_count": 6,
   "id": "fa738fd2",
   "metadata": {},
   "outputs": [],
   "source": [
    "df[\"Destinazione_Uso_FastText\"] = \"__label__\" + df[\"Destinazione_Uso_FastText\"].astype(str)"
   ]
  },
  {
   "cell_type": "markdown",
   "id": "77bff0de",
   "metadata": {},
   "source": [
    "#### Creo una nuova colonna contenente sia la label della classe sia la descrizione, utile per trainare il modello con FastText"
   ]
  },
  {
   "cell_type": "code",
   "execution_count": 7,
   "id": "49d2c2c4",
   "metadata": {},
   "outputs": [],
   "source": [
    "df[\"FastText_Data\"] = df[\"Destinazione_Uso_FastText\"] + \" \" + df[\"Descrizione_Bene_FastText\"]"
   ]
  },
  {
   "cell_type": "markdown",
   "id": "3454b147",
   "metadata": {},
   "source": [
    "#### Elimino la colonna che non mi serve più"
   ]
  },
  {
   "cell_type": "code",
   "execution_count": 8,
   "id": "65444907",
   "metadata": {},
   "outputs": [],
   "source": [
    "colonne_to_drop = [\"Destinazione_Uso_Encoded\", \"Descrizione_Bene_FastText\"]\n",
    "df.drop(columns=colonne_to_drop, inplace=True)"
   ]
  },
  {
   "cell_type": "markdown",
   "id": "ac8a26da",
   "metadata": {},
   "source": [
    "### 2 - Text classification con Stratified K Fold - FastTExt con la variabile testuale senza cifre e senza typos"
   ]
  },
  {
   "cell_type": "code",
   "execution_count": 9,
   "id": "f6db564d",
   "metadata": {},
   "outputs": [
    {
     "name": "stdout",
     "output_type": "stream",
     "text": [
      "Precision: 0.88\n",
      "Recall: 0.44\n",
      "F1 Score: 0.59\n",
      "\n",
      "\n",
      "Precision: 0.89\n",
      "Recall: 0.44\n",
      "F1 Score: 0.59\n",
      "\n",
      "\n",
      "Precision: 0.88\n",
      "Recall: 0.44\n",
      "F1 Score: 0.59\n",
      "\n",
      "\n",
      "Precision: 0.88\n",
      "Recall: 0.44\n",
      "F1 Score: 0.59\n",
      "\n",
      "\n",
      "Precision: 0.88\n",
      "Recall: 0.44\n",
      "F1 Score: 0.59\n",
      "\n",
      "\n",
      "Overall evaluation metrics:\n",
      "Macro - Precision: 0.88\n",
      "Macro - Recall: 0.44\n",
      "Macro - F1 Score: 0.59\n"
     ]
    }
   ],
   "source": [
    "n_splits = 5\n",
    "\n",
    "stratified_kf = StratifiedKFold(n_splits=n_splits, shuffle=True, random_state=42)\n",
    "\n",
    "precision_scores = []\n",
    "recall_scores = []\n",
    "f1_scores = []\n",
    "\n",
    "all_test_indices = []\n",
    "all_predictions = []  \n",
    "\n",
    "for train_index, test_index in stratified_kf.split(df['FastText_Data'], df['Destinazione_Uso_FastText']):\n",
    "    X_train, X_test = df['FastText_Data'].iloc[train_index], df['FastText_Data'].iloc[test_index]\n",
    "    y_train, y_test = df['Destinazione_Uso_FastText'].iloc[train_index], df['Destinazione_Uso_FastText'].iloc[test_index]\n",
    "\n",
    "    train_df = pd.DataFrame({'text': X_train, 'label': y_train})\n",
    "    test_df = pd.DataFrame({'text': X_test, 'label': y_test})\n",
    "\n",
    "    train_df.to_csv('D:\\\\Master_Cefriel_DS_AI_Monolo\\\\0_Project_Work\\\\Dataset\\\\13_Dataset_FastText\\\\Descrizione_FastText_4.train.txt', \n",
    "                    sep='\\t', index=False, header=False)\n",
    "    test_df.to_csv('D:\\\\Master_Cefriel_DS_AI_Monolo\\\\0_Project_Work\\\\Dataset\\\\13_Dataset_FastText\\\\Descrizione_FastText_4.test.txt', \n",
    "                   sep='\\t', index=False, header=False)\n",
    "\n",
    "    model = fasttext.train_supervised(input='D:\\\\Master_Cefriel_DS_AI_Monolo\\\\0_Project_Work\\\\Dataset\\\\13_Dataset_FastText\\\\Descrizione_FastText_4.train.txt', \n",
    "                                      autotuneValidationFile='D:\\\\Master_Cefriel_DS_AI_Monolo\\\\0_Project_Work\\\\Dataset\\\\13_Dataset_FastText\\\\Descrizione_FastText_4.test.txt')\n",
    "\n",
    "    results = model.test('D:\\\\Master_Cefriel_DS_AI_Monolo\\\\0_Project_Work\\\\Dataset\\\\13_Dataset_FastText\\\\Descrizione_FastText_4.test.txt')\n",
    "\n",
    "    predictions = [model.predict(str(text), k=1)[0][0] for text in X_test]\n",
    "    \n",
    "    precision = results[1]  \n",
    "    recall = results[2]  \n",
    "    f1 = 2 * (precision * recall) / (precision + recall)  \n",
    "\n",
    "    print(f\"Precision: {round(precision, 2)}\")\n",
    "    print(f\"Recall: {round(recall, 2)}\")\n",
    "    print(f\"F1 Score: {round(f1, 2)}\")\n",
    "    print(\"\\n\")\n",
    "\n",
    "    precision_scores.append(precision)\n",
    "    recall_scores.append(recall)\n",
    "    f1_scores.append(f1)\n",
    "    \n",
    "    all_test_indices.extend(test_index)\n",
    "    all_predictions.extend(predictions)\n",
    "\n",
    "avg_precision = sum(precision_scores) / len(precision_scores)\n",
    "avg_recall = sum(recall_scores) / len(recall_scores)\n",
    "avg_f1 = sum(f1_scores) / len(f1_scores)\n",
    "\n",
    "print(\"Overall evaluation metrics:\")\n",
    "print(\"Macro - Precision:\", round(avg_precision, 2))\n",
    "print(\"Macro - Recall:\", round(avg_recall, 2))\n",
    "print(\"Macro - F1 Score:\", round(avg_f1, 2))"
   ]
  },
  {
   "cell_type": "markdown",
   "id": "930e34ce",
   "metadata": {},
   "source": [
    "### 3- Valutazione del modello\n",
    "\n",
    "- **Check dell'accuracy raggiunta dal modello, con check della F1 Score per ogni classe del data frame:**"
   ]
  },
  {
   "cell_type": "code",
   "execution_count": 10,
   "id": "d4a13d8d",
   "metadata": {},
   "outputs": [
    {
     "name": "stdout",
     "output_type": "stream",
     "text": [
      "                                precision    recall  f1-score   support\n",
      "\n",
      "__label__agricultural_building       0.19      0.01      0.02       550\n",
      "                __label__hotel       0.82      0.17      0.28       560\n",
      "           __label__industrial       0.57      0.19      0.28      2269\n",
      "                 __label__land       0.84      0.78      0.81      5801\n",
      "          __label__residential       0.90      0.97      0.94    132176\n",
      "               __label__retail       0.76      0.66      0.70      7743\n",
      "              __label__storage       0.71      0.45      0.55     16904\n",
      "\n",
      "                      accuracy                           0.88    166003\n",
      "                     macro avg       0.69      0.46      0.51    166003\n",
      "                  weighted avg       0.87      0.88      0.87    166003\n",
      "\n"
     ]
    }
   ],
   "source": [
    "classification_report_str = classification_report(df['Destinazione_Uso_FastText'].iloc[all_test_indices],\n",
    "                                                  all_predictions, \n",
    "                                                  zero_division=0)\n",
    "\n",
    "print(classification_report_str)"
   ]
  },
  {
   "cell_type": "markdown",
   "id": "c11079aa",
   "metadata": {},
   "source": [
    "- **Confusion matrix per controllare il numero di predizioni corrette per ogni classe di destinazione d'uso:**"
   ]
  },
  {
   "cell_type": "code",
   "execution_count": 11,
   "id": "7214bce5",
   "metadata": {},
   "outputs": [
    {
     "data": {
      "image/png": "[encoded data removed]",
      "text/plain": [
       "<Figure size 1440x432 with 1 Axes>"
      ]
     },
     "metadata": {},
     "output_type": "display_data"
    }
   ],
   "source": [
    "cm_pred = confusion_matrix(df['Destinazione_Uso_FastText'].iloc[all_test_indices], \n",
    "                           all_predictions)\n",
    "\n",
    "cm_pred = pd.DataFrame(cm_pred,\n",
    "                       index=['AGRIC. BUILD. 0 - Actual','HOTEL 1 - Actual','INDUSTRIAL 2 - Actual','LAND 3 - Actual','RESIDENTIAL 4 - Actual','RETAIL 5 - Actual','STORAGE 6 - Actual'],\n",
    "                       columns = ['AGRIC. BUILD. 0 - Pre','HOTEL 1 - Pre','INDUSTRIAL 2 - Pre','LAND 3 - Pre','RESIDENTIAL 4 - Pre','RETAIL 5 - Pre','STORAGE 6 - Pre'])\n",
    "\n",
    "# Mostro la confusion matrix su una heatmap:\n",
    "sns.set(rc={'figure.figsize':(20,6)})\n",
    "heatmap = sns.heatmap(cm_pred, \n",
    "            annot=True, \n",
    "            cmap=\"Greens\", \n",
    "            fmt=\"d\", \n",
    "            xticklabels=['AGRIC. BUILD. 0 - Pre','HOTEL 1 - Pre','INDUSTRIAL 2 - Pre','LAND 3 - Pre','RESIDENTIAL 4 - Pre','RETAIL 5 - Pre','STORAGE 6 - Pre'], \n",
    "            yticklabels=['AGRIC. BUILD. 0 - Actual','HOTEL 1 - Actual','INDUSTRIAL 2 - Actual','LAND 3 - Actual','RESIDENTIAL 4 - Actual','RETAIL 5 - Actual','STORAGE 6 - Actual'],\n",
    "                     cbar=False)\n",
    "\n",
    "heatmap.set_xticklabels(heatmap.get_xticklabels(), fontsize=14)\n",
    "heatmap.set_yticklabels(heatmap.get_yticklabels(), fontsize=14)\n",
    "\n",
    "plt.tick_params(axis='x', labeltop=True, labelbottom=False)\n",
    "plt.tight_layout()\n",
    "plt.show()"
   ]
  },
  {
   "cell_type": "code",
   "execution_count": 14,
   "id": "e1e0a921",
   "metadata": {},
   "outputs": [
    {
     "name": "stdout",
     "output_type": "stream",
     "text": [
      "Numero predizioni corrette:  146494\n",
      "Numero predizioni sbagliate:  19509\n"
     ]
    }
   ],
   "source": [
    "print(\"Numero predizioni corrette: \", 5+93+421+4525+128687+5086+7677)\n",
    "print(\"Numero predizioni sbagliate: \", 166003-(5+93+421+4525+128687+5086+7677))"
   ]
  },
  {
   "cell_type": "markdown",
   "id": "470e3950",
   "metadata": {},
   "source": [
    "### Conclusioni\n",
    "\n",
    "- La **text classification** eseguita con FastText risulta essere finora la **migliore**.\n",
    "    - Raggiungendo una **F1 Score** pari a **0.59** ed una **Precision** pari a **0.88**, superando quindi quella ricavata da **TFIDF con Logistic Rregression**, la quale era pari a **0.56**;\n",
    "\n",
    "\n",
    "- Inoltre, im questo caso, il **numero complessivo di errori** è pari a **19.509** osservazioni sbagliate;\n",
    "\n",
    "\n",
    "- Le **prime tre classi** (\"agricultural building\", \"hotel\", \"industrial\") risultano essere **inferiori al 50%**, particolarmente la classe **\"Agricultural Building\"** che è pari a **2%**, mentre le **alre due** pari al **28%** e **28%**.\n",
    "\n",
    "\n",
    "- Pertanto, l'utilizzo del modello **FastTetx per la text classification** risulta essere la **miglior soluzione provata finora**; "
   ]
  }
 ],
 "metadata": {
  "kernelspec": {
   "display_name": "Python 3 (ipykernel)",
   "language": "python",
   "name": "python3"
  },
  "language_info": {
   "codemirror_mode": {
    "name": "ipython",
    "version": 3
   },
   "file_extension": ".py",
   "mimetype": "text/x-python",
   "name": "python",
   "nbconvert_exporter": "python",
   "pygments_lexer": "ipython3",
   "version": "3.9.7"
  }
 },
 "nbformat": 4,
 "nbformat_minor": 5
}
