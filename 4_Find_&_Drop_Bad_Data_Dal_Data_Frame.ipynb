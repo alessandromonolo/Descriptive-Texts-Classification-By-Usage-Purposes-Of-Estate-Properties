{
 "cells": [
  {
   "cell_type": "markdown",
   "id": "4cce13ac",
   "metadata": {},
   "source": [
    "Progetto: **Classificazione di testi descrittivi per destinazione d'uso, inerenti ai beni sottoposti ad aste giudiziarie italiane.**\n",
    "\n",
    "Studente: **Alessandro Monolo** | *10439147*\n",
    "\n",
    "Relatore: Marco Brambilla\n",
    "\n",
    "Referente aziendale: Simone Redaelli\n",
    "\n",
    "Master: Data Science & Artificial Intelligence\n",
    "\n",
    "Università: Politecnico di Milano\n",
    "\n",
    "<hr style=\"border:1px solid black\">\n",
    "\n",
    "## Find & Drop Bad Data per ogni colonna del data frame e dei duplicated values rimasti.\n",
    "\n",
    "- **1.** Analizzo i valori presenti in ogni campo del data frame;\n",
    "\n",
    "\n",
    "- **2.** Filtro il data frame da tutti i valori che rappresentano valori eccezionali al suo interno;\n",
    "\n",
    "\n",
    "- **3.** Trovo ulteriori valori duplicati e li elimino dal mio data frame;\n",
    "\n",
    "\n",
    "- **4.** Conclusioni;\n",
    "\n",
    "\n",
    "- **5.** Export del data frame in file CSV.\n",
    "\n",
    "<hr style=\"border:1px solid black\">\n",
    "\n",
    "**Importo le librerie che mi servono:**"
   ]
  },
  {
   "cell_type": "code",
   "execution_count": 1,
   "id": "74efb536",
   "metadata": {},
   "outputs": [],
   "source": [
    "import pandas as pd\n",
    "import numpy as np\n",
    "import re"
   ]
  },
  {
   "cell_type": "markdown",
   "id": "1d056111",
   "metadata": {},
   "source": [
    "#### Set pandas options:"
   ]
  },
  {
   "cell_type": "code",
   "execution_count": 2,
   "id": "3aaadd40",
   "metadata": {},
   "outputs": [],
   "source": [
    "pd.set_option('display.max_colwidth', None)\n",
    "pd.options.display.max_rows = 5000\n",
    "pd.options.display.max_columns = 1000\n",
    "pd.options.display.float_format = '{:.2f}'.format"
   ]
  },
  {
   "cell_type": "markdown",
   "id": "0b70e184",
   "metadata": {},
   "source": [
    "**Importo file CSV**"
   ]
  },
  {
   "cell_type": "code",
   "execution_count": 3,
   "id": "fba56da9",
   "metadata": {},
   "outputs": [],
   "source": [
    "df = pd.read_csv(\"D:\\\\Master_Cefriel_DS_AI_Monolo\\\\0_Project_Work\\\\Dataset\\\\4_Dataset_Bad_Data\\\\Dataset_Bad_Data.csv\",\n",
    "                 dtype={'Numero_Lotto' : 'Int64'})"
   ]
  },
  {
   "cell_type": "markdown",
   "id": "947938f7",
   "metadata": {},
   "source": [
    "### 1 - Analizzo i campi del data frame e quantifico Bad Data o valori eccezionali, in ognuno di essi\n",
    "\n",
    "- Dopo aver esaminato le unique values presenti nei campi del data frame, conteggio i valori che presentano delle eccezioni o degli errori all'interno dei vari campi; qui di seguito l'esamina emersa."
   ]
  },
  {
   "cell_type": "code",
   "execution_count": 4,
   "id": "1237719d",
   "metadata": {},
   "outputs": [
    {
     "name": "stdout",
     "output_type": "stream",
     "text": [
      "1 - Numero di beni che presentano un numero lotto superiore a 1000: \u001b[1m \u001b[15;31;43m 509 \u001b[0m\n",
      "2 - Numero di beni con categoria RESIDENTIAL che contano più di 100 vani: \u001b[1m \u001b[15;31;43m 89 \u001b[0m\n",
      "3 - Numero di beni con categoria diversa da LAND con superficie maggiore di 10.000 Mq: \u001b[1m \u001b[15;31;43m 40 \u001b[0m\n",
      "4 - Numero di beni con categoria diversa da STORAGE con superficie inferiore ad 1 Mq: \u001b[1m \u001b[15;31;43m 7 \u001b[0m\n",
      "5 - Numero di beni che presentano una descrizione con più di 3000 caratteri: \u001b[1m \u001b[15;31;43m 678 \u001b[0m\n"
     ]
    }
   ],
   "source": [
    "print(\"1 - Numero di beni che presentano un numero lotto superiore a 1000:\", '\\033[1m','\\033[15;31;43m',\n",
    "      (df['Numero_Lotto'] > 1000).sum(), '\\033[0m')\n",
    "\n",
    "print(\"2 - Numero di beni con categoria RESIDENTIAL che contano più di 100 vani:\", '\\033[1m','\\033[15;31;43m',\n",
    "      ((df['Destinazione_Uso'] == \"RESIDENTIAL\") & (df['Numero_Vani'] > 100)).sum(), '\\033[0m')\n",
    "\n",
    "print(\"3 - Numero di beni con categoria diversa da LAND con superficie maggiore di 10.000 Mq:\", '\\033[1m','\\033[15;31;43m',\n",
    "      ((df['Destinazione_Uso'] != \"LAND\") & (df['Superficie'] > 10000)).sum(), '\\033[0m')\n",
    "\n",
    "print(\"4 - Numero di beni con categoria diversa da STORAGE con superficie inferiore ad 1 Mq:\", '\\033[1m','\\033[15;31;43m',\n",
    "      ((df['Destinazione_Uso'] != \"STORAGE\") & (df['Superficie'] < 1)).sum(), '\\033[0m')\n",
    "\n",
    "print(\"5 - Numero di beni che presentano una descrizione con più di 3000 caratteri:\", '\\033[1m','\\033[15;31;43m',\n",
    "      (df['N_Caratteri'] > 3000).sum(), '\\033[0m')"
   ]
  },
  {
   "cell_type": "markdown",
   "id": "e075e6fa",
   "metadata": {},
   "source": [
    "### 2 - Filtro il Data Frame dai valori emersi precedentemente\n",
    "\n",
    "- Per ogni campo del data frame dove sono emersi Bad data, filtro il data frame finale"
   ]
  },
  {
   "cell_type": "code",
   "execution_count": 5,
   "id": "1ef4918d",
   "metadata": {},
   "outputs": [
    {
     "name": "stdout",
     "output_type": "stream",
     "text": [
      "Numero beni prima del drop dei Bad Data: \u001b[1m \u001b[15;31;43m 194553 \u001b[0m\n",
      "Numero beni dopo il drop dei Bad Data: \u001b[1m \u001b[15;31;43m 193245 \u001b[0m\n",
      "Numero dei beni eliminati \u001b[1m \u001b[15;31;43m 1308 \u001b[0m\n"
     ]
    }
   ],
   "source": [
    "# Conto i beni rimasti prima del drop dei Bad data:\n",
    "print(\"Numero beni prima del drop dei Bad Data:\", '\\033[1m','\\033[15;31;43m', df.shape[0], '\\033[0m')\n",
    "\n",
    "# 2.1 - Elimino i beni con Numero lotto superiore a 1000:\n",
    "df = df[~((df['Numero_Lotto'] > 1000) & (~df['Numero_Lotto'].isnull()))]\n",
    "# 2.2 - Elimino i beni con numero vani maggiori di 100 con destunazione Residential:\n",
    "df = df[~(((df['Destinazione_Uso'] == \"RESIDENTIAL\") & (df['Numero_Vani'] > 100)) & (~df['Numero_Vani'].isnull()))]\n",
    "# 2.3 - Elimino i beni con superficie maggiore di 10.000 Mq per i beni con destinazione diversa da Land:\n",
    "df = df[~(((df['Destinazione_Uso'] != \"LAND\") & (df['Superficie'] > 10000)) & (~df['Superficie'].isnull()))]\n",
    "# 2.4 - Elimino i beni con superficie minore di 1 Mq con destinazione diversa da Storage:\n",
    "df = df[~(((df['Destinazione_Uso'] != \"STORAGE\") & (df['Superficie'] < 1)) & (~df['Superficie'].isnull()))]\n",
    "# 2.5 - Elimino i beni con una lunghezza della descrizione del bene maggiore di 3000 caratteri:\n",
    "df = df[~((df['N_Caratteri'] > 3000) & (~df['N_Caratteri'].isnull()))]\n",
    "\n",
    "# Conto i beni rimasti dopo il drop dei Bad data:\n",
    "print(\"Numero beni dopo il drop dei Bad Data:\", '\\033[1m','\\033[15;31;43m', df.shape[0], '\\033[0m')\n",
    "# Conteggio dei beni droppati:\n",
    "print(\"Numero dei beni eliminati\", '\\033[1m','\\033[15;31;43m', 194553 - 193245 , '\\033[0m')"
   ]
  },
  {
   "cell_type": "markdown",
   "id": "0c034f07",
   "metadata": {},
   "source": [
    "### 3 - Trovo ed elimino ulteriori beni duplicati dal data frame:"
   ]
  },
  {
   "cell_type": "code",
   "execution_count": 6,
   "id": "51f9168a",
   "metadata": {},
   "outputs": [
    {
     "name": "stdout",
     "output_type": "stream",
     "text": [
      "Attualmente ci sono ancora \u001b[1m \u001b[15;31;43m 64 \u001b[0m beni duplicati nel data frame.\n",
      "Numero beni prima del drop dei beni duplicati rimasti: \u001b[1m \u001b[15;31;43m 193245 \u001b[0m\n",
      "Numero beni dopo il drop dei beni duplicati rimasti: \u001b[1m \u001b[15;31;43m 193181 \u001b[0m\n",
      "Numero dei beni eliminati \u001b[1m \u001b[15;31;43m 64 \u001b[0m\n"
     ]
    }
   ],
   "source": [
    "# Quantifico i beni duplicati ancora presenti nel mio data frame:\n",
    "duplicated_values = len(df[df.duplicated() ])\n",
    "# Mostro il valore ottenuto:\n",
    "print(\"Attualmente ci sono ancora\", '\\033[1m', '\\033[15;31;43m', duplicated_values, '\\033[0m', \"beni duplicati nel data frame.\")\n",
    "\n",
    "# Mostro il numero di beni presenti in questo momento nel data frame:\n",
    "print(\"Numero beni prima del drop dei beni duplicati rimasti:\", '\\033[1m','\\033[15;31;43m', df.shape[0], '\\033[0m')\n",
    "# Elimino i beni duplicati dal data frame:\n",
    "df = df.drop_duplicates(keep='first')\n",
    "\n",
    "# Mostro quanti beni rimasti sono nel data frame senza i beni duplicati:\n",
    "print(\"Numero beni dopo il drop dei beni duplicati rimasti:\", '\\033[1m','\\033[15;31;43m', df.shape[0], '\\033[0m')\n",
    "# Mostro la differenza ottenuta da prima a dopo:\n",
    "print(\"Numero dei beni eliminati\", '\\033[1m','\\033[15;31;43m', 193245-193181 , '\\033[0m')"
   ]
  },
  {
   "cell_type": "markdown",
   "id": "9d728997",
   "metadata": {},
   "source": [
    "### 4 - Conclusioni:\n",
    "\n",
    "- Sono stati individuati ed eliminati alcuni **Bad Data** presenti nelle colonne numeriche el data frame.\n",
    "    - In particolare sono stati eliminati **1.308 beni** che rappresentavano per i relativi campi, valori eccezionali o probabilmente sbagliati.Si tratta in questo caso del **0.7 % del totale dei beni iniziali**.\n",
    "- Successivamente sono stati individuati ulteriori **beni duplicati** all'interno del data frame.\n",
    "    - In particolare sono stati eliminati **64** beni duplicati dal data frame. Trattandosi quindi del **0.03% del totale dei beni rimasti**."
   ]
  },
  {
   "cell_type": "markdown",
   "id": "5a400559",
   "metadata": {},
   "source": [
    "### 5 - Export data frame file CSV:"
   ]
  },
  {
   "cell_type": "code",
   "execution_count": 7,
   "id": "459a7fed",
   "metadata": {},
   "outputs": [],
   "source": [
    "df_csv = df.to_csv(\"D:\\\\Master_Cefriel_DS_AI_Monolo\\\\0_Project_Work\\\\Dataset\\\\5_Dataset_FillNullValues_&_DropNa\\\\Dataset_FillNullValues_&_DropNa.csv\",\n",
    "                   index=False)"
   ]
  }
 ],
 "metadata": {
  "kernelspec": {
   "display_name": "Python 3 (ipykernel)",
   "language": "python",
   "name": "python3"
  },
  "language_info": {
   "codemirror_mode": {
    "name": "ipython",
    "version": 3
   },
   "file_extension": ".py",
   "mimetype": "text/x-python",
   "name": "python",
   "nbconvert_exporter": "python",
   "pygments_lexer": "ipython3",
   "version": "3.9.7"
  }
 },
 "nbformat": 4,
 "nbformat_minor": 5
}
