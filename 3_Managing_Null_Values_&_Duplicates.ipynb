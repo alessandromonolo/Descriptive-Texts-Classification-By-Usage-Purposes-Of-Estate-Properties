{
 "cells": [
  {
   "cell_type": "markdown",
   "id": "4cce13ac",
   "metadata": {},
   "source": [
    "Progetto: **Classificazione di testi descrittivi per destinazione d'uso, inerenti ai beni sottoposti ad aste giudiziarie italiane.**\n",
    "\n",
    "Studente: **Alessandro Monolo** | *10439147*\n",
    "\n",
    "Relatore: Marco Brambilla\n",
    "\n",
    "Referente aziendale: Simone Redaelli\n",
    "\n",
    "Master: Data Science & Artificial Intelligence\n",
    "\n",
    "Università: Politecnico di Milano\n",
    "\n",
    "<hr style=\"border:1px solid black\">\n",
    "\n",
    "## Gestione dei valori ambigui nella colonna \"Numero Vani\", drop dei dati duplicati e fill delle null values nella colonna \"Superficie\" & \"Numero Vani\"\n",
    "\n",
    "- **1.** Controllo la presenza di valori pari a 0 nella colonna Numero Vani & Superficie.\n",
    "    Laddove ci siano valori pari a 0, approssimare per eccesso sostituendo i valori trovati con 0.5, ovvero il valore minimo per un vano;\n",
    "    \n",
    "\n",
    "- **2.** Controllo la presenza di valori duplicati all'interno del dataframe, selezionando solo i valori univoci per ogni colonna;\n",
    "\n",
    "\n",
    "- **3.** Mappo le Null values nella colonna Superficie, estraendo con una Regex i valori dei metri quadrati dalla descrizione del bene;\n",
    "\n",
    "\n",
    "- **4.** Dai valori estratti dalla regex per il campo Superficie, ora mappo le null values nel campo Numero Vani con i metri quadrati estratti;\n",
    "\n",
    "\n",
    "- **5.** Conclusioni;\n",
    "\n",
    "\n",
    "- **6.** Esporto il data frame in un file CSV;\n",
    "\n",
    "<hr style=\"border:1px solid black\">\n",
    "\n",
    "**Importo le librerie che mi servono:**"
   ]
  },
  {
   "cell_type": "code",
   "execution_count": 1,
   "id": "74efb536",
   "metadata": {},
   "outputs": [],
   "source": [
    "import pandas as pd\n",
    "import numpy as np\n",
    "import re"
   ]
  },
  {
   "cell_type": "markdown",
   "id": "1d056111",
   "metadata": {},
   "source": [
    "#### Set pandas options:"
   ]
  },
  {
   "cell_type": "code",
   "execution_count": 2,
   "id": "3aaadd40",
   "metadata": {},
   "outputs": [],
   "source": [
    "pd.set_option('display.max_colwidth', None)\n",
    "pd.options.display.max_rows = 5000\n",
    "pd.options.display.max_columns = 1000\n",
    "pd.options.display.float_format = '{:.2f}'.format"
   ]
  },
  {
   "cell_type": "markdown",
   "id": "0b70e184",
   "metadata": {},
   "source": [
    "**Importo file CSV**"
   ]
  },
  {
   "cell_type": "code",
   "execution_count": 3,
   "id": "fba56da9",
   "metadata": {},
   "outputs": [],
   "source": [
    "df = pd.read_csv(\"D:\\\\Master_Cefriel_DS_AI_Monolo\\\\0_Project_Work\\\\Dataset\\\\3_Dataset_Cleaning_2\\\\Dataset_Cleaning_2.csv\",\n",
    "                 dtype={'Numero_Lotto' : 'Int64'})"
   ]
  },
  {
   "cell_type": "markdown",
   "id": "66115926",
   "metadata": {},
   "source": [
    "### 1 - Controllo la presenza di valori pari a 0 nelle \"Numero Vani\" e \"Superficie\":\n",
    "\n",
    "\n",
    "- La colonna **Numero_Vani** presenta **1341** valori **uguali a zero**.\n",
    "- Questi valori sono stati generati dalla divisione / 20 della relativa superfice e dalla successiva approssimazione.\n",
    "- Questa colonna non dovrebbe avere 0, quindi saranno approssimati per 0.5, come valore minimo di vani.\n",
    "- La colonna superficie **non presenta valori pari a 0**."
   ]
  },
  {
   "cell_type": "code",
   "execution_count": 4,
   "id": "69538f7e",
   "metadata": {},
   "outputs": [
    {
     "name": "stdout",
     "output_type": "stream",
     "text": [
      "Numero di 0 presenti nella colonna Numero Vani prima:  \u001b[1m \u001b[15;31;43m 1341 \u001b[0m\n",
      "Numero di 0.5 presenti nella colonna Numero Vani prima:  \u001b[1m \u001b[15;31;43m 14140 \u001b[0m\n",
      "Numero di 0 presenti nella colonna Numero Vani dopo:  \u001b[1m \u001b[15;31;43m 0 \u001b[0m\n",
      "Numero di 0.5 presenti nella colonna Numero Vani dopo:  \u001b[1m \u001b[15;31;43m 15481 \u001b[0m\n",
      "Numero di 0 presenti nella colonna Superficie:  \u001b[1m \u001b[15;31;43m 0 \u001b[0m\n"
     ]
    }
   ],
   "source": [
    "# Conto il numero di 0.00 presenti prima della conversione degli 0:\n",
    "print(\"Numero di 0 presenti nella colonna Numero Vani prima: \", '\\033[1m','\\033[15;31;43m', \n",
    "      df[df['Numero_Vani'] == 0].shape[0], '\\033[0m')\n",
    "# Conto il numero di 0.5 presenti prima della conversione degli 0:\n",
    "print(\"Numero di 0.5 presenti nella colonna Numero Vani prima: \", '\\033[1m','\\033[15;31;43m', \n",
    "      df[df['Numero_Vani'] == 0.5].shape[0], '\\033[0m')\n",
    "\n",
    "# Converto gli 0 in 0.5 come valore minimo ammesso nella colonna Numero_Vani:\n",
    "df['Numero_Vani'] = df['Numero_Vani'].apply(lambda x: 0.5 if x == 0.00 else x)\n",
    "\n",
    "# Conto il numero di 0.00 presenti dopo la conversione degli 0:\n",
    "print(\"Numero di 0 presenti nella colonna Numero Vani dopo: \", '\\033[1m','\\033[15;31;43m', \n",
    "      df[df['Numero_Vani'] == 0].shape[0], '\\033[0m')\n",
    "# Conto il numero di 0.5 presenti dopo la conversione degli 0:\n",
    "print(\"Numero di 0.5 presenti nella colonna Numero Vani dopo: \", '\\033[1m','\\033[15;31;43m', \n",
    "      df[df['Numero_Vani'] == 0.5].shape[0], '\\033[0m')\n",
    "\n",
    "# Conto il numero di 0.00 presenti prima della conversione degli 0:\n",
    "print(\"Numero di 0 presenti nella colonna Superficie: \", '\\033[1m','\\033[15;31;43m', \n",
    "      df[df['Superficie'] == 0].shape[0], '\\033[0m')"
   ]
  },
  {
   "cell_type": "markdown",
   "id": "7e2f4469",
   "metadata": {},
   "source": [
    "### 2 - Controllo la presenza di valori multipli nel data frame:\n",
    "\n",
    "\n",
    "- Verifico la presenza di eventuali duplicates;\n",
    "- Nel caso siano presenti li elimino dal data frame."
   ]
  },
  {
   "cell_type": "code",
   "execution_count": 5,
   "id": "f785f86b",
   "metadata": {},
   "outputs": [
    {
     "name": "stdout",
     "output_type": "stream",
     "text": [
      "Numero beni prima di trovare i duplicati:  \u001b[1m \u001b[15;31;43m 221812 \u001b[0m\n",
      "Numero beni dopo aver trovato ed eliminato i doppioni:  \u001b[1m \u001b[15;31;43m 194553 \u001b[0m\n",
      "Numero totale di beni eliminati dopo aver trovato i duplicati:  \u001b[1m \u001b[15;31;43m 27259 \u001b[0m\n"
     ]
    }
   ],
   "source": [
    "print(\"Numero beni prima di trovare i duplicati: \",\n",
    "      '\\033[1m','\\033[15;31;43m', df.shape[0], '\\033[0m')\n",
    "\n",
    "# Indico le colonne utili per trovare in esse duplicat nel data frame:\n",
    "colonne_df_2 = ['Destinazione_Uso',\n",
    "              'Categoria_Catastale',\n",
    "              'Tribunale',\n",
    "              'Provincia',\n",
    "              'Comune',\n",
    "              'Numero_Lotto',\n",
    "              'Numero_Vani',\n",
    "              'Superficie',\n",
    "              'Catasto_Fabbricati',\n",
    "              'Descrizione_Bene',\n",
    "              'N_Caratteri'] \n",
    "\n",
    "# Elimino i valori multipli presenti nel data frame secondo le colonne precisate sopra:\n",
    "df = df.drop_duplicates(subset = colonne_df_2)\n",
    "\n",
    "# Scrivo considerazioni:\n",
    "print(\"Numero beni dopo aver trovato ed eliminato i doppioni: \",\n",
    "      '\\033[1m','\\033[15;31;43m', df.shape[0], '\\033[0m')\n",
    "# Conclusioni sui duplicati:\n",
    "print(\"Numero totale di beni eliminati dopo aver trovato i duplicati: \",\n",
    "      '\\033[1m','\\033[15;31;43m', 221812 - 194553, '\\033[0m')"
   ]
  },
  {
   "cell_type": "markdown",
   "id": "4df2c3af",
   "metadata": {},
   "source": [
    "### 3 - Estraggo i valori dei mq dalla descrizione del bene per mappare il campo Superficie quando è mancante:\n",
    "\n",
    "- Estraggo valori numerici presenti in prossimità delle scritte *mq, MQ, Mq, M2, m2 ,metri quadrati* neli testi della colonna descrizione;\n",
    "- Mappo le Null Values presenti nella colonna superficie con i valori estratt dalla regex;"
   ]
  },
  {
   "cell_type": "code",
   "execution_count": 6,
   "id": "cd79b9fc",
   "metadata": {},
   "outputs": [
    {
     "name": "stdout",
     "output_type": "stream",
     "text": [
      "Prima di bonificare le null values, ci sono ora \u001b[1m \u001b[15;31;43m 35057 \u001b[0m valori mancanti nella colonna superficie.\n",
      "La regex applicata alla colonna descrizione ha estratto N° valori: \u001b[1m \u001b[15;31;43m 52739 \u001b[0m\n",
      "Ora ci sono \u001b[1m \u001b[15;31;43m 24696 \u001b[0m Null Values nella colonna superficie.\n",
      "Sono stati quindi recuperati in totale dalla regex \u001b[1m \u001b[15;31;43m 10361 \u001b[0m valori, prima mancanti nel campo Superficie.\n"
     ]
    }
   ],
   "source": [
    "print(\"Prima di bonificare le null values, ci sono ora\", '\\033[1m','\\033[15;31;43m', df['Superficie'].isnull().sum(),\n",
    "      '\\033[0m', \"valori mancanti nella colonna superficie.\")\n",
    "\n",
    "# Definisco innanzitutto la regex per l'estrazione dei dati:\n",
    "pattern = r'(?i)(?:mq|MQ|Mq|M2|m2|metri quadrati)\\D*(\\d+(?:,\\d+)?(?:\\.\\d+)?)'\n",
    "\n",
    "# La applico alla colonna descrizione, estraendo i valori presenti:\n",
    "df['Superficie_Regex'] = df['Descrizione_Bene'].str.extract(pattern, flags = re.IGNORECASE)\n",
    "\n",
    "# Converto la , in . per i numeri decimali:\n",
    "df['Superficie_Regex'] = df['Superficie_Regex'].str.replace(',', '.')\n",
    "# Converto i valori estratti in valori numerici:\n",
    "df['Superficie_Regex'] = pd.to_numeric(df['Superficie_Regex'], errors='coerce')\n",
    "\n",
    "# Mostro quanti valori sono stati estratti dalla regex applicata alla colonna Descrizione Bene:\n",
    "print(\"La regex applicata alla colonna descrizione ha estratto N° valori:\", \n",
    "      '\\033[1m','\\033[15;31;43m', df['Superficie_Regex'].notnull().sum(), '\\033[0m')\n",
    "\n",
    "# Mappo la colonna Superficie laddove ci sono valori nulli, con i valori estratti dalla regex:\n",
    "df['Superficie'] = df['Superficie'].fillna(df['Superficie_Regex'])\n",
    "\n",
    "# Stampo i risultati finali:\n",
    "print(\"Ora ci sono\", '\\033[1m','\\033[15;31;43m', df['Superficie'].isnull().sum(),\n",
    "      '\\033[0m', \"Null Values nella colonna superficie.\")\n",
    "print(\"Sono stati quindi recuperati in totale dalla regex\",\n",
    "      '\\033[1m','\\033[15;31;43m', 35057 - 24696, '\\033[0m', \"valori, prima mancanti nel campo Superficie.\")\n",
    "\n",
    "# Infine elimino la colonna Superficie_Regex in quanto ormai inutile:\n",
    "df = df.drop('Superficie_Regex', axis=1)"
   ]
  },
  {
   "cell_type": "markdown",
   "id": "3f3a9743",
   "metadata": {},
   "source": [
    "### 4 -  Mappo le Null values nel campo Numero Vani attraverso i valori estratti con la regex nel campo Superficie\n",
    "\n",
    "- Riempio le null values con i valori della superficie dividendoli / 20, come descritto nel precedento script;\n",
    "- Arrotondo i valori acquisiti, per difetto o per eccesso, a seconda del valore estratto"
   ]
  },
  {
   "cell_type": "code",
   "execution_count": 7,
   "id": "d36d50e3",
   "metadata": {},
   "outputs": [
    {
     "name": "stdout",
     "output_type": "stream",
     "text": [
      "Numero di Null Values prima della bonifica:  \u001b[1m \u001b[15;31;43m 35057 \u001b[0m\n",
      "Numero di Null Values dopo la bonifica:  \u001b[1m \u001b[15;31;43m 24696 \u001b[0m\n",
      "Sono stati quindi recuperati in totale \u001b[1m \u001b[15;31;43m 10361 \u001b[0m valori, prima mancanti nel campo Numero Vani.\n"
     ]
    }
   ],
   "source": [
    "# Situazione iniziale della colonna Numero vani:\n",
    "print(\"Numero di Null Values prima della bonifica: \", '\\033[1m','\\033[15;31;43m',\n",
    "      df['Numero_Vani'].isnull().sum(), '\\033[0m')\n",
    "\n",
    "# Ottengo il numero di vani laddove siano assenti, dividendo la superfice del bene per 20:\n",
    "df['Numero_Vani'] = df.apply(lambda row: row['Superficie'] / 20 if np.isnan(row['Numero_Vani'])\n",
    "                                  else row['Numero_Vani'], axis=1)\n",
    "\n",
    "# Funzione per arrotondare per eccesso o per difetto i float ricavati dalla divisione precedente:\n",
    "def numero_vani_round(value):\n",
    "    if np.isnan(value):\n",
    "        return value\n",
    "    decimal_part = value - int(value)\n",
    "    if decimal_part >= 0.75:\n",
    "        return int(value) + 1.0\n",
    "    elif decimal_part >= 0.25:\n",
    "        return int(value) + 0.5\n",
    "    else:\n",
    "        return int(value)\n",
    "    \n",
    "# Applico la UDF alla collonna numero vani:\n",
    "df['Numero_Vani'] = df['Numero_Vani'].apply(numero_vani_round)\n",
    "\n",
    "# Situazione finale della colonna Numero vani:\n",
    "print(\"Numero di Null Values dopo la bonifica: \", '\\033[1m','\\033[15;31;43m',\n",
    "      df['Numero_Vani'].isnull().sum(), '\\033[0m')\n",
    "print(\"Sono stati quindi recuperati in totale\",\n",
    "      '\\033[1m','\\033[15;31;43m', 35057 - 24696, '\\033[0m', \"valori, prima mancanti nel campo Numero Vani.\")"
   ]
  },
  {
   "cell_type": "markdown",
   "id": "cea9a5fc",
   "metadata": {},
   "source": [
    "### 5 - Conclusioni:\n",
    "\n",
    "- Nella colonna **Numero vani** sono stati corretti **1.341** valori, prima **uguali a 0**, ora corretti a 0.5. Un bene non può avere 0 come valore per il numero dei vani, il minimo consentito è pari a 0.5;\n",
    "\n",
    "\n",
    "- Dopo aver controllato il data frame, è emerso che c'erano **27.259 valori doppi**. I valori sono quindi stati **eliminati** dal data frame in quanto rappresentavano una ridondanza di dati. Per l'eliminazione dei dati, sono state messe a confronto tutte le colonne del data frame, ed eliminati solo i dati che presentavano valori identici su tutti i campo che compongono il data frame;\n",
    "\n",
    "\n",
    "- Attraverso una **regex** applicata al campo **descrizione del bene**, sono stati estratti in totale **52.739** valori inerenti alla superficie dei beni del data frame. I valori estratti sono stati quindi utilizzati per bonificare le null values che erano presenti nel campo **Superficie**, laddove non c'era alcun valore, mentre dalla regex era stato possibile estrarne uno. Infine, i valori ricavati in più rispetto a prima sono pari a **10.361**.\n",
    "\n",
    "\n",
    "- Infine, avendo ottenuto dei valori in più nel campo Superficie, prima non presenti, attraverso la **proporzione** descritta nello script precedente, sono stati ricavati altrettanti valori per bonificare le null values presenti nel campo **Numero Vani**, ovvero anche in questo caso **10.361**."
   ]
  },
  {
   "cell_type": "markdown",
   "id": "f8e4551c",
   "metadata": {},
   "source": [
    "### 6 - Export data frame file CSV:"
   ]
  },
  {
   "cell_type": "code",
   "execution_count": 8,
   "id": "e5faca73",
   "metadata": {},
   "outputs": [],
   "source": [
    "df_csv = df.to_csv('D:\\\\Master_Cefriel_DS_AI_Monolo\\\\0_Project_Work\\\\Dataset\\\\4_Dataset_Bad_Data\\\\Dataset_Bad_Data.csv',\n",
    "                            index=False)"
   ]
  }
 ],
 "metadata": {
  "kernelspec": {
   "display_name": "Python 3 (ipykernel)",
   "language": "python",
   "name": "python3"
  },
  "language_info": {
   "codemirror_mode": {
    "name": "ipython",
    "version": 3
   },
   "file_extension": ".py",
   "mimetype": "text/x-python",
   "name": "python",
   "nbconvert_exporter": "python",
   "pygments_lexer": "ipython3",
   "version": "3.9.7"
  }
 },
 "nbformat": 4,
 "nbformat_minor": 5
}
