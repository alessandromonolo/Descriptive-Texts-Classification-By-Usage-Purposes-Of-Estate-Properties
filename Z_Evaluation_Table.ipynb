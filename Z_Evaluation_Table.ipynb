{
 "cells": [
  {
   "cell_type": "markdown",
   "id": "4734afaf",
   "metadata": {},
   "source": [
    "| **Soluzione** | Modello | Accuracy | Precision | Recall | F1-Score | N° Pred. Corrette - (%) | N° Pred. Errate - (%) | Tot Dati Processati|\n",
    "|          ---           |   ---   |    ---   |   ---     |    --- |    ---   |           ---         |          ---        | ---  |\n",
    "| **I**  | *Logistic Regression* | 0.56  |  0.35 |  0.23 | 0.25  | 93.044 - (56 %)  | 72.996 - (44 %)  | 166.040 |\n",
    "| **I** | *Random Forest Classifier* | 0.64  | 0.49  | 0.42  | 0.44  | 105.535 - (64 %)  | 60.505 - (36 %)| 166.040 |\n",
    "| **II** | *TF-IDF + SVM* | 0.84  | 0.64  | 0.51  | 0.56  | 138.874 - (84 %)  | 27.129 - (16 %) | 166.003 |\n",
    "| **II** | *TF-IDF + Logistic Regression* | 0.84  | 0.55  | 0.30  | 0.35  | 140.268 - (84 %)  |  25.735 - (16 %) | 166.003 |\n",
    "|**II** | *TF-IDF + NB Classifier* | 0.65  | 0.46  | 0.26  | 0.31  | 108.640 - (65 %)  | 57.363 - (35 %)  | 166.003 |\n",
    "| **II** | *CountVectorizer + SVM* | 0.79  | 0.51  | 0.48  | 0.49  | 131.057 - (79 %)  | 34.946 - (21 %)  | 166.003 |\n",
    "| **II** | *CountVectorizer + Logistic Regression* | 0.86  | 0.65  | 0.49  | 0.54  | 142.416 - (86 %)  | 23.587 - (14 %)  | 166.003 |\n",
    "| **II** | *CountVectorizer + NB Classifier* | 0.63  | 0.38  | 0.27  | 0.30  | 104.095 - (63 %)  | 61.908 - (37 %)  | 166.003 |\n",
    "| **II** | *Spacy + Word2Vec + SVM* | 0.79  | 0.57  | 0.25  | 0.28  | 130.398 - (79 %)  | 35.605 - (21 %) | 166.003 |\n",
    "| **II** | *Spacy + Word2Vec + Logistic Regression* | 0.78  | 0.44  | 0.25  | 0.27  | 130.289 - (78 %)  | 35.714 - (22 %)  | 166.003 |\n",
    "| **II** | *Spacy + Word2Vec + XGBoost* | 0.78  | 0.53  | 0.25  | 0.28  | 130.131 - (78 %)  | 35.872 - (22 %)  | 166.003 |\n",
    "| **III** | *fastText* | 0.88  | 0.69  | 0.46  | 0.51  | 146.494 - (88 %)  |  19.509 - (12 %) | 166.003 |\n",
    "| **IV** | ***XLM RoBERTa Base*** | **0.90**  | **0.66**  | **0.62**  | **0.64**  | **29.968 - (90 %)**  |  **3.233 - (10 %)** | 33.201 |"
   ]
  },
  {
   "cell_type": "code",
   "execution_count": null,
   "id": "a441820f",
   "metadata": {},
   "outputs": [],
   "source": []
  },
  {
   "cell_type": "code",
   "execution_count": null,
   "id": "22a75a64",
   "metadata": {},
   "outputs": [],
   "source": []
  },
  {
   "cell_type": "code",
   "execution_count": null,
   "id": "e66aa778",
   "metadata": {},
   "outputs": [],
   "source": []
  }
 ],
 "metadata": {
  "kernelspec": {
   "display_name": "Python 3 (ipykernel)",
   "language": "python",
   "name": "python3"
  },
  "language_info": {
   "codemirror_mode": {
    "name": "ipython",
    "version": 3
   },
   "file_extension": ".py",
   "mimetype": "text/x-python",
   "name": "python",
   "nbconvert_exporter": "python",
   "pygments_lexer": "ipython3",
   "version": "3.9.7"
  }
 },
 "nbformat": 4,
 "nbformat_minor": 5
}
