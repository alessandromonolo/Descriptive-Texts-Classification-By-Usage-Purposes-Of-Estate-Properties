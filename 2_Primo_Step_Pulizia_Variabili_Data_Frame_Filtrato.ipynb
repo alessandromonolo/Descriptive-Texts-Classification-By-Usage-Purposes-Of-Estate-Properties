{
 "cells": [
  {
   "cell_type": "markdown",
   "id": "4cce13ac",
   "metadata": {},
   "source": [
    "Progetto: **Classificazione di testi descrittivi per destinazione d'uso, inerenti ai beni sottoposti ad aste giudiziarie italiane.**\n",
    "\n",
    "Studente: **Alessandro Monolo** | *10439147*\n",
    "\n",
    "Relatore: Marco Brambilla\n",
    "\n",
    "Referente aziendale: Simone Redaelli\n",
    "\n",
    "Master: Data Science & Artificial Intelligence\n",
    "\n",
    "Università: Politecnico di Milano\n",
    "\n",
    "<hr style=\"border:1px solid black\">\n",
    "\n",
    "# Studio delle variabili, prima fase di pulizia e sanatoria delle Null Values per le colonne numeriche\n",
    "\n",
    "- **1.** Controllo le varie Colonne, una per una. Se trovo errori o dati ambigui, cerco come correggerli, ove possibile;\n",
    "    - **1.1** - Numero Lotto;\n",
    "    - **1.2** - Numero Vani;\n",
    "    - **1.3** - Superficie;\n",
    "    - **1.4** - Tipo Catasto;\n",
    "    - **1.5** - Descrizione;\n",
    "    \n",
    "    \n",
    "- **2.** Elimino le colonne ormai inutili;\n",
    "\n",
    "\n",
    "- **3.** Rinomino le colonne del data frame;\n",
    "\n",
    "\n",
    "- **4.** Conclusioni;\n",
    "\n",
    "\n",
    "- **5.** Esporto il data frame in un file CSV;\n",
    "\n",
    "<hr style=\"border:1px solid black\">\n",
    "\n",
    "**Importo le librerie che mi servono:**"
   ]
  },
  {
   "cell_type": "code",
   "execution_count": 1,
   "id": "74efb536",
   "metadata": {},
   "outputs": [],
   "source": [
    "import pandas as pd\n",
    "import numpy as np\n",
    "import re"
   ]
  },
  {
   "cell_type": "markdown",
   "id": "1d056111",
   "metadata": {},
   "source": [
    "#### Set pandas options:"
   ]
  },
  {
   "cell_type": "code",
   "execution_count": 2,
   "id": "3aaadd40",
   "metadata": {},
   "outputs": [],
   "source": [
    "pd.set_option('display.max_colwidth', None)\n",
    "pd.options.display.max_rows = 5000\n",
    "pd.options.display.max_columns = 1000\n",
    "pd.options.display.float_format = '{:.2f}'.format"
   ]
  },
  {
   "cell_type": "markdown",
   "id": "0b70e184",
   "metadata": {},
   "source": [
    "**Importo file CSV**"
   ]
  },
  {
   "cell_type": "code",
   "execution_count": 3,
   "id": "7c467d53",
   "metadata": {},
   "outputs": [],
   "source": [
    "df = pd.read_csv(\"D:\\\\Master_Cefriel_DS_AI_Monolo\\\\0_Project_Work\\\\Dataset\\\\2_Dataset_Cleaning_1\\\\Dataset_Cleaning_1.csv\")"
   ]
  },
  {
   "cell_type": "markdown",
   "id": "a25025d2",
   "metadata": {},
   "source": [
    "### 1 - Correggo le colonne numeriche da dati ambigui o errati, ove possibile e sano le Null Values\n",
    "\n",
    "- **1.1 - Colonna: NumLotto**\n",
    "\n",
    "    - Dopo aver controllato tutti i valori presenti nella colonna \"NumLotto\", mantengo come valori corretti solo quelli che non presentano lettere, simboli e whitespaces;\n",
    "    - Questo perchè il numero di un lotto può identificarsi solo come integer."
   ]
  },
  {
   "cell_type": "code",
   "execution_count": 4,
   "id": "5ebfd5db",
   "metadata": {},
   "outputs": [
    {
     "name": "stdout",
     "output_type": "stream",
     "text": [
      "Null Values totali:  \u001b[1m \u001b[15;31;43m 4040 \u001b[0m\n",
      "Numero Lotto in Integer format ottenuti:  \u001b[1m \u001b[15;31;43m 218696 \u001b[0m\n"
     ]
    }
   ],
   "source": [
    "# Salvo la colonna NumLotto in una colonna di backup, sulla quale apporterò le successive modifiche:\n",
    "df['NumLotto_Int'] = df['NumLotto']\n",
    "\n",
    "# Sostituisco tutti i valori nella colonna che presentano simboli, con Null values:\n",
    "df['NumLotto_Int'] = df['NumLotto_Int'].apply(lambda x: np.nan if pd.notna(x) and bool(re.search(r'[^\\w\\s]', x)) else x)\n",
    "\n",
    "# Creo una Userd-Defined-Function che sostituisce con Null values ogni valore che presenta una lettera all'interno di ogni riga:\n",
    "def replace_with_nan(row):\n",
    "    if isinstance(row['NumLotto_Int'], str) and any(char.isalpha() for char in row['NumLotto_Int']):\n",
    "        return np.nan\n",
    "    return row['NumLotto_Int']\n",
    "\n",
    "# Applico la UDF alla colonna:\n",
    "df['NumLotto_Int'] = df.apply(replace_with_nan, axis=1)\n",
    "\n",
    "# Sostiuisco tutti i valori che presentano _ con Null Values:\n",
    "df['NumLotto_Int'] = df['NumLotto_Int'].replace(r'_', np.nan, regex=True)\n",
    "\n",
    "# Sostiuisco tutti i valori che presentano whitespaces con Null Values:\n",
    "df['NumLotto_Int'] = df['NumLotto_Int'].replace(r' ', np.nan, regex=True)\n",
    "\n",
    "# Trasformo tutte le Null Values in 0:\n",
    "df['NumLotto_Int'].fillna('0', inplace=True)\n",
    "\n",
    "# Converto la colonna NumLotto_Int in formato Integer:\n",
    "df['NumLotto_Int'] = df['NumLotto_Int'].astype('int64')\n",
    "\n",
    "# Sostituisco di nuovo ora i valori uguali a 0 con Null Values:\n",
    "df['NumLotto_Int'].replace(0, np.nan, inplace=True)\n",
    "df['NumLotto_Int'] = df['NumLotto_Int'].astype('Int64', errors='ignore')\n",
    "\n",
    "# Conto il numero delle Null Values finali ottenute:\n",
    "print(\"Null Values totali: \",\n",
    "      '\\033[1m','\\033[15;31;43m',\n",
    "      df['NumLotto_Int'].isnull().sum(),\n",
    "      '\\033[0m')\n",
    "\n",
    "#Rispetto ai valori interi ottenuti:\n",
    "print(\"Numero Lotto in Integer format ottenuti: \",\n",
    "      '\\033[1m','\\033[15;31;43m',\n",
    "      df['NumLotto_Int'].notnull().sum(),\n",
    "      '\\033[0m')"
   ]
  },
  {
   "cell_type": "markdown",
   "id": "3bbf7302",
   "metadata": {},
   "source": [
    "- **1.2 - Colonna: Numero Vani**\n",
    "\n",
    "    - Dopo aver controllato i valori presenti nella colonna \"NumeroVani\", converto i caratteri utili a trasformare la colonna in un formato numerico, consono al tipo di dato che viene trattato in questo campo;\n",
    "    - Infine, convertendo la colonna in decimale, converto gli 0 in valore assente, in quanto un bene non può non avere vani;\n",
    "    - Nel caso non abbia vani, significa che il valore o manca, oppure non è soggetto a questo tipo di caratteristica, E.G. i terreni (LAND). "
   ]
  },
  {
   "cell_type": "code",
   "execution_count": 5,
   "id": "85e5d7e9",
   "metadata": {},
   "outputs": [
    {
     "name": "stdout",
     "output_type": "stream",
     "text": [
      "Null Values presenti:  \u001b[1m \u001b[15;31;43m 121164 \u001b[0m\n",
      "Numero Vani presenti:  \u001b[1m \u001b[15;31;43m 101572 \u001b[0m\n"
     ]
    }
   ],
   "source": [
    "# Salvo la colonna Numero Vani in una colonna di backup, sulla quale apporterò le successive modifiche:\n",
    "df['NumeroVani_Float'] = df['NumeroVani']\n",
    "\n",
    "# Sostituisco \",\" con \".\" per poi trasformare la colonna di backup in formato float:\n",
    "df['NumeroVani_Float'] = df['NumeroVani_Float'].replace(',', '.', regex=True)\n",
    "# Sostituisco \"_\" con \"\" per poi trasformare la colonna di backup in formato float:\n",
    "df['NumeroVani_Float'] = df['NumeroVani_Float'].replace('-', '', regex=True)\n",
    "# Converto la colonna da object a float32, 32 perchè non necessito di avere molti decimali nella medesima colonna:\n",
    "df['NumeroVani_Float'] = df['NumeroVani_Float'].astype('float32')\n",
    "\n",
    "# Sostituisco 0 con Null Values, in quanto un bene non può avere 0 vani, quindi lo leggo come valore assente:\n",
    "df['NumeroVani_Float'].replace(0, np.nan, inplace=True)\n",
    "\n",
    "# Conto il numero delle Null Values finali ottenute:\n",
    "print(\"Null Values presenti: \", \n",
    "      '\\033[1m',\n",
    "      '\\033[15;31;43m', \n",
    "      df['NumeroVani_Float'].isnull().sum(), \n",
    "      '\\033[0m')\n",
    "\n",
    "# Rispetto ai valori interi ottenuti:\n",
    "print(\"Numero Vani presenti: \",\n",
    "      '\\033[1m','\\033[15;31;43m',\n",
    "      df['NumeroVani_Float'].notnull().sum(),\n",
    "      '\\033[0m')"
   ]
  },
  {
   "cell_type": "markdown",
   "id": "c188d06d",
   "metadata": {},
   "source": [
    "- **1.3 - Colonna: Superficie**\n",
    "    - Dopo aver controllato i valori presenti nella colonna \"Superficie\", noto che 89.246 valori sono uguali a 0 M2, su un totale di 222.736 beni;\n",
    "    - Per bonificare questa colonna che appare scarsamente popolata, utilizzo i dati che provengono dalla colonna appena pulita \"Numero Vani\", in quanto è possibile risalire alla superficie di un bene moltiplicando il numero di vani * 20;\n",
    "    - 20 quindi è il moltiplicatore utile a poter mappare la colonna superfice nel caso in cui questo dato non sia già disponibile;\n",
    "    - 20 è il moltiplicatore indicato a livello aziendale, il quale prende spunto da studi derivanti dall'Agenzia Delle Entrate;\n",
    "    - Inoltre, se il dato nella colonna superfice è una Null Values, si trasforma in 0.00 (tranne per i beni LAND, perchè non hanno vani), al fine di essere poi mappata con la moltiplicazione descritta sopra."
   ]
  },
  {
   "cell_type": "code",
   "execution_count": 6,
   "id": "de8bd800",
   "metadata": {},
   "outputs": [
    {
     "name": "stdout",
     "output_type": "stream",
     "text": [
      "Null Values totali:  \u001b[1m \u001b[15;31;43m 54326 \u001b[0m\n",
      "Superfici uguali a 0 M2:  \u001b[1m \u001b[15;31;43m 0 \u001b[0m\n",
      "Superfici in Float format ottenute:  \u001b[1m \u001b[15;31;43m 168410 \u001b[0m\n"
     ]
    }
   ],
   "source": [
    "# Salvo la colonna Superficie in una colonna di backup, sulla quale apporterò le successive modifiche:\n",
    "df['Superficie_Calcolata'] = df['Superficie']\n",
    "\n",
    "# Sostituisco \",\" con \".\" per poi trasformare la colonna di backup in formato float:\n",
    "df['Superficie_Calcolata'] = df['Superficie_Calcolata'].replace(',', '.', regex=True)\n",
    "\n",
    "# Trasformo tutto in lower case:\n",
    "df['Superficie_Calcolata'] = df['Superficie_Calcolata'].str.lower()\n",
    "# Sostituisco le stringhe corrotte per poi trasformare la colonna di backup in formato float:\n",
    "df['Superficie_Calcolata'] = df['Superficie_Calcolata'].str.replace('mq', '', regex=True)\n",
    "df['Superficie_Calcolata'] = df['Superficie_Calcolata'].str.replace('92 \\+ 49', '141', regex=True)\n",
    "df['Superficie_Calcolata'] = df['Superficie_Calcolata'].str.replace('79\\+21', '100', regex=True)\n",
    "df['Superficie_Calcolata'] = df['Superficie_Calcolata'].str.replace('circa', '', regex=True)\n",
    "df['Superficie_Calcolata'] = df['Superficie_Calcolata'].str.replace('106.99\\+86.16', '193.15', regex=True)\n",
    "# Converto la colonna da object a float32, 32 perchè non necessito di avere molti decimali nella medesima colonna:\n",
    "df['Superficie_Calcolata'] = df['Superficie_Calcolata'].astype('float32')\n",
    "\n",
    "# Trasformo le Null values in 0.00 nella colonna superfice se il campo Destinazione d'uso non è LAND:\n",
    "def fill_nan_based_on_condition(df, condition_column, fill_column):\n",
    "    df[fill_column] = np.where(df[condition_column] != \"LAND\", df[fill_column].fillna(0.00), df[fill_column])\n",
    "    return df\n",
    "# Applico la UDF creata sopra alla colonna superfice di backup:\n",
    "df = fill_nan_based_on_condition(df, 'DestinazioneUso', 'Superficie_Calcolata')\n",
    "\n",
    "# Mappo la colonna di backup laddove i valori sono uguali a 0.00, moltiplicando \"Numero Vani\" * 20:\n",
    "def map_and_multiply(row):\n",
    "    if row['Superficie_Calcolata'] == 0.00:\n",
    "        return 20 * row['NumeroVani_Float']\n",
    "    else:\n",
    "        return row['Superficie_Calcolata']\n",
    "\n",
    "# Applico la UDF alla colonna di backup:\n",
    "df['Superficie_Calcolata'] = df.apply(map_and_multiply, axis=1)\n",
    "\n",
    "# Conto il numero delle Null Values finali ottenute:\n",
    "print(\"Null Values totali: \", \n",
    "      '\\033[1m',\n",
    "      '\\033[15;31;43m', \n",
    "      df['Superficie_Calcolata'].isnull().sum(), \n",
    "      '\\033[0m')\n",
    "\n",
    "# Conto il numero delle superfici ancora uguali a 0:\n",
    "print(\"Superfici uguali a 0 M2: \", \n",
    "      '\\033[1m',\n",
    "      '\\033[15;31;43m', \n",
    "      (df['Superficie_Calcolata'] == 0.00).sum(), \n",
    "      '\\033[0m')\n",
    "\n",
    "# Rispetto ai valori interi ottenuti:\n",
    "print(\"Superfici in Float format ottenute: \",\n",
    "      '\\033[1m','\\033[15;31;43m',\n",
    "      df['Superficie_Calcolata'].notnull().sum(),\n",
    "      '\\033[0m')"
   ]
  },
  {
   "cell_type": "markdown",
   "id": "23f160c5",
   "metadata": {},
   "source": [
    "- **1.2.2 - Colonna: Numero Vani**\n",
    "    - Adottando la stessa logica, posso ora applicarla ai valori attualmente assenti nel campo Numero Vani;\n",
    "    - Dividendo la superfice / 20, per ottenere il numero dei vani, laddove in questo momento il valore è assente.\n",
    "    - Il numero di vani può essere, o numero intero oppure aumentato di 0.5 per volta, quindi dopo la divisione è necessario approssimare il risultato ottenuto."
   ]
  },
  {
   "cell_type": "code",
   "execution_count": 7,
   "id": "135c8442",
   "metadata": {},
   "outputs": [
    {
     "name": "stdout",
     "output_type": "stream",
     "text": [
      "Null Values presenti:  \u001b[1m \u001b[15;31;43m 54311 \u001b[0m\n",
      "Numero Vani presenti:  \u001b[1m \u001b[15;31;43m 168425 \u001b[0m\n",
      "Numero Vani sanati rispetto a prima:  \u001b[1m \u001b[15;31;43m 66853 \u001b[0m\n"
     ]
    }
   ],
   "source": [
    "# Ottengo il numero di vani laddove siano assenti, dividendo la superfice del bene per 20:\n",
    "df['NumeroVani_Float'] = df.apply(lambda row: row['Superficie_Calcolata'] / 20 if np.isnan(row['NumeroVani_Float'])\n",
    "                                  else row['NumeroVani_Float'], axis=1)\n",
    "\n",
    "# Creo una funzione per arrotondare per eccesso o per difetto i float ricavati dalla divisione precedente:\n",
    "def numero_vani_round(value):\n",
    "    if np.isnan(value):\n",
    "        return value\n",
    "    decimal_part = value - int(value)\n",
    "    if decimal_part >= 0.75:\n",
    "        return int(value) + 1.0\n",
    "    elif decimal_part >= 0.25:\n",
    "        return int(value) + 0.5\n",
    "    else:\n",
    "        return int(value)\n",
    "    \n",
    "# Applico la UDF alla collonna:\n",
    "df['NumeroVani_Float'] = df['NumeroVani_Float'].apply(numero_vani_round)\n",
    "\n",
    "# Conto il numero delle Null Values finali ottenute:\n",
    "print(\"Null Values presenti: \", \n",
    "      '\\033[1m',\n",
    "      '\\033[15;31;43m', \n",
    "      df['NumeroVani_Float'].isnull().sum(), \n",
    "      '\\033[0m')\n",
    "\n",
    "# Rispetto ai valori interi ottenuti:\n",
    "print(\"Numero Vani presenti: \",\n",
    "      '\\033[1m','\\033[15;31;43m',\n",
    "      df['NumeroVani_Float'].notnull().sum(),\n",
    "      '\\033[0m')\n",
    "\n",
    "# Ottengo il numero di valori inerenti al numero vani dei beni del data frame sanati rispetto a prima:\n",
    "print(\"Numero Vani sanati rispetto a prima: \",\n",
    "      '\\033[1m','\\033[15;31;43m',\n",
    "      121164 - df['NumeroVani_Float'].isnull().sum(),\n",
    "      '\\033[0m')"
   ]
  },
  {
   "cell_type": "markdown",
   "id": "b6c33f6a",
   "metadata": {},
   "source": [
    "- **1.4 - Colonna: Tipo Catasto**\n",
    "    - Controllo la distribuzione dei valori presenti nella colonna Tipo Catasto;\n",
    "    - La categoria T (Terreni) è ammessa solo per i beni inerenti alla destinazione d'uso LAND, in quanto facenti parte del catasto T (Terreni) e non F (Fabbricati);\n",
    "    - Laddove questa associazione non fosse presente, mappare correttamente la colonna Tipo Catasto.\n",
    "    - Trasformo il campo Tipo Catasto da \"**T**\" & \"**F**\" in un formato **Boolean**."
   ]
  },
  {
   "cell_type": "code",
   "execution_count": 8,
   "id": "44436e48",
   "metadata": {},
   "outputs": [
    {
     "name": "stdout",
     "output_type": "stream",
     "text": [
      "Numero beni con catasto Terreni e destinazione d'uso Land: \u001b[1m \u001b[15;31;43m 9766 \u001b[0m\n",
      "Numero beni con catasto Fabbricati e destinazione d'uso Land: \u001b[1m \u001b[15;31;43m 761 \u001b[0m\n",
      "Numero beni con catasto Terreni e destinazione d'uso non Land: \u001b[1m \u001b[15;31;43m 155 \u001b[0m\n",
      "Quindi ci sono 9766 beni coerenti. Mentre i beni non coerenti sono:  \u001b[1m \u001b[15;31;43m 916 \u001b[0m i quali sono da eliminare dal data frame. \n",
      "\n",
      "Numero beni con catasto Terreni e destinazione d'uso Land: \u001b[1m \u001b[15;31;43m 9766 \u001b[0m\n",
      "Numero beni con catasto Fabbricati e destinazione d'uso Land: \u001b[1m \u001b[15;31;43m 0 \u001b[0m\n",
      "Numero beni con catasto Terreni e destinazione d'uso non Land: \u001b[1m \u001b[15;31;43m 0 \u001b[0m\n",
      "Ci sono ancora i 9766 beni coerenti. Mentre i beni non coerenti sono ora stati eliminati in quanti pari a \u001b[1m \u001b[15;31;43m 0 \u001b[0m\n"
     ]
    }
   ],
   "source": [
    "# Check iniziale per trovare incongruenze nei beni:\n",
    "# Numero beni con catasto Terreni e destinazione d'uso Land:\n",
    "df_t_l = df[(df['TipoCatasto'] == \"T\") & (df['DestinazioneUso'] == \"LAND\")]\n",
    "print(\"Numero beni con catasto Terreni e destinazione d'uso Land:\", '\\033[1m','\\033[15;31;43m', df_t_l.shape[0], '\\033[0m')\n",
    "# Numero beni con catasto fabbricati e destinazione d'uso Land:\n",
    "df_f_l = df[(df['TipoCatasto'] == \"F\") & (df['DestinazioneUso'] == \"LAND\")]\n",
    "print(\"Numero beni con catasto Fabbricati e destinazione d'uso Land:\", '\\033[1m','\\033[15;31;43m', df_f_l.shape[0], '\\033[0m')\n",
    "# Numero beni con catasto terreni e con destinazione d'uso diverso da Land:\n",
    "df_t_nl = df[(df['TipoCatasto'] == \"T\") & (df['DestinazioneUso'] != \"LAND\")]\n",
    "print(\"Numero beni con catasto Terreni e destinazione d'uso non Land:\", '\\033[1m','\\033[15;31;43m', df_t_nl.shape[0], '\\033[0m')\n",
    "print(\"Quindi ci sono 9766 beni coerenti. Mentre i beni non coerenti sono: \", '\\033[1m','\\033[15;31;43m',\n",
    "      int(df_f_l.shape[0] + df_t_nl.shape[0]),'\\033[0m', \"i quali sono da eliminare dal data frame.\", \"\\n\")\n",
    "\n",
    "# Filtro il mio data frame, al netto degli errori:\n",
    "# Salvo l'indice del primo sub-data frame inerente ai beni fabbricati & land:\n",
    "errore_1 = df_f_l.index\n",
    "# Salvo l'indice del primo sub-data frame inerente ai beni Terreni & not-land:\n",
    "errore_2 = df_t_nl.index\n",
    "# Elimino dal mio data frame le righe contenenti i dati sbagliati, secondo i due indici settati prima:\n",
    "df = df.drop(errore_1)\n",
    "df = df.drop(errore_2)\n",
    "\n",
    "#Ricontrollo il tutto:\n",
    "# Numero beni con catasto Terreni e destinazione d'uso Land:\n",
    "df_t_l_1 = df[(df['TipoCatasto'] == \"T\") & (df['DestinazioneUso'] == \"LAND\")]\n",
    "print(\"Numero beni con catasto Terreni e destinazione d'uso Land:\", '\\033[1m','\\033[15;31;43m', df_t_l_1.shape[0], '\\033[0m')\n",
    "# Numero beni con catasto fabbricati e destinazione d'uso Land:\n",
    "df_f_l_1 = df[(df['TipoCatasto'] == \"F\") & (df['DestinazioneUso'] == \"LAND\")]\n",
    "print(\"Numero beni con catasto Fabbricati e destinazione d'uso Land:\", '\\033[1m','\\033[15;31;43m', df_f_l_1.shape[0], '\\033[0m')\n",
    "# Numero beni con catasto terreni e con destinazione d'uso diverso da Land:\n",
    "df_t_nl_1 = df[(df['TipoCatasto'] == \"T\") & (df['DestinazioneUso'] != \"LAND\")]\n",
    "print(\"Numero beni con catasto Terreni e destinazione d'uso non Land:\",\n",
    "      '\\033[1m','\\033[15;31;43m', df_t_nl_1.shape[0], '\\033[0m')\n",
    "print(\"Ci sono ancora i 9766 beni coerenti. Mentre i beni non coerenti sono ora stati eliminati in quanti pari a\",\n",
    "      '\\033[1m','\\033[15;31;43m', int(df_f_l_1.shape[0] + df_t_nl_1.shape[0]), '\\033[0m')"
   ]
  },
  {
   "cell_type": "code",
   "execution_count": 9,
   "id": "4ab4da01",
   "metadata": {},
   "outputs": [
    {
     "name": "stdout",
     "output_type": "stream",
     "text": [
      "Numero beni con catasto Terreni: \u001b[1m \u001b[15;31;43m 9766 \u001b[0m\n",
      "Numero beni con catasto Fabbricati: \u001b[1m \u001b[15;31;43m 212054 \u001b[0m \n",
      "\n",
      "Numero beni con catasto boolean False: \u001b[1m \u001b[15;31;43m 9766 \u001b[0m\n",
      "Numero beni con catasto boolean True: \u001b[1m \u001b[15;31;43m 212054 \u001b[0m\n"
     ]
    }
   ],
   "source": [
    "# Infine Trasformo la colonna ormai pulita da errori Tipo Catasto in formato Boolean:\n",
    "df['TipoCatasto_Bool'] = df['TipoCatasto'].apply(lambda x: 1 if x == 'F' else 0)\n",
    "# Trasformo la colonna da integer a Boolean type:\n",
    "df['TipoCatasto_Bool'] = df['TipoCatasto_Bool'].astype(bool)\n",
    "\n",
    "# Controllo il risultato finale se tutto coincide:\n",
    "t = df[df['TipoCatasto'] == \"T\"]\n",
    "print(\"Numero beni con catasto Terreni:\", '\\033[1m','\\033[15;31;43m', t.shape[0], '\\033[0m')\n",
    "f = df[df['TipoCatasto'] == \"F\"]\n",
    "print(\"Numero beni con catasto Fabbricati:\", '\\033[1m','\\033[15;31;43m', f.shape[0], '\\033[0m', \"\\n\")\n",
    "# Controllo il risultato finale se tutto coincide:\n",
    "Zero = df[df['TipoCatasto_Bool'] == False]\n",
    "print(\"Numero beni con catasto boolean False:\", '\\033[1m','\\033[15;31;43m', Zero.shape[0], '\\033[0m')\n",
    "Uno = df[df['TipoCatasto_Bool'] == True]\n",
    "print(\"Numero beni con catasto boolean True:\", '\\033[1m','\\033[15;31;43m', Uno.shape[0], '\\033[0m')"
   ]
  },
  {
   "cell_type": "markdown",
   "id": "12605e24",
   "metadata": {},
   "source": [
    "- **1.5 - Colonna: Descrizione**\n",
    "    - Ottengo la lunghezza della colonna Descrizione e salvo i valori in una nuova colonna;\n",
    "    - Analizzo i valori ricavati;\n",
    "    - Se ci sono valori estremamente troppo bassi, allora rimuovo le righe contenenti queste brevi descrizioni;"
   ]
  },
  {
   "cell_type": "code",
   "execution_count": 10,
   "id": "7adc4573",
   "metadata": {},
   "outputs": [
    {
     "name": "stdout",
     "output_type": "stream",
     "text": [
      "Il data frame ha N beni:  \u001b[1m \u001b[15;31;43m 221820 \u001b[0m\n",
      "Il numero totale di beni con descrizioni sotto i 4 caratteri è di:  \u001b[1m \u001b[15;31;43m 99 \u001b[0m\n"
     ]
    },
    {
     "data": {
      "text/html": [
       "<div>\n",
       "<style scoped>\n",
       "    .dataframe tbody tr th:only-of-type {\n",
       "        vertical-align: middle;\n",
       "    }\n",
       "\n",
       "    .dataframe tbody tr th {\n",
       "        vertical-align: top;\n",
       "    }\n",
       "\n",
       "    .dataframe thead th {\n",
       "        text-align: right;\n",
       "    }\n",
       "</style>\n",
       "<table border=\"1\" class=\"dataframe\">\n",
       "  <thead>\n",
       "    <tr style=\"text-align: right;\">\n",
       "      <th></th>\n",
       "      <th>Stringa</th>\n",
       "      <th>Count</th>\n",
       "    </tr>\n",
       "  </thead>\n",
       "  <tbody>\n",
       "    <tr>\n",
       "      <th>0</th>\n",
       "      <td>Box</td>\n",
       "      <td>45</td>\n",
       "    </tr>\n",
       "    <tr>\n",
       "      <th>1</th>\n",
       "      <td>box</td>\n",
       "      <td>44</td>\n",
       "    </tr>\n",
       "    <tr>\n",
       "      <th>2</th>\n",
       "      <td>C/2</td>\n",
       "      <td>5</td>\n",
       "    </tr>\n",
       "    <tr>\n",
       "      <th>3</th>\n",
       "      <td>A/3</td>\n",
       "      <td>2</td>\n",
       "    </tr>\n",
       "    <tr>\n",
       "      <th>4</th>\n",
       "      <td>BOx</td>\n",
       "      <td>2</td>\n",
       "    </tr>\n",
       "    <tr>\n",
       "      <th>5</th>\n",
       "      <td>A/5</td>\n",
       "      <td>1</td>\n",
       "    </tr>\n",
       "  </tbody>\n",
       "</table>\n",
       "</div>"
      ],
      "text/plain": [
       "  Stringa  Count\n",
       "0     Box     45\n",
       "1     box     44\n",
       "2     C/2      5\n",
       "3     A/3      2\n",
       "4     BOx      2\n",
       "5     A/5      1"
      ]
     },
     "metadata": {},
     "output_type": "display_data"
    },
    {
     "name": "stdout",
     "output_type": "stream",
     "text": [
      "I valori da togliere sono quindi:  \u001b[1m \u001b[15;31;43m 8 \u001b[0m , ovvero tutte le values che non sono inerenti alle descrizionid dei Box.\n",
      "Dopo il filtraggio il data frame ha N beni:  \u001b[1m \u001b[15;31;43m 221812 \u001b[0m\n"
     ]
    }
   ],
   "source": [
    "# Conto il numero di valori rimasti:\n",
    "print(\"Il data frame ha N beni: \", '\\033[1m','\\033[15;31;43m', df.shape[0], '\\033[0m')\n",
    "\n",
    "# Ottengo la colonna nuova in format integer derivante dal numero di caratteri presenti nel campo descrizione:\n",
    "df['Descrizione_Length'] = df['Descrizione'].apply(lambda x: len(x))\n",
    "\n",
    "# Seleziono solo i valori minori di 4 caratteri:\n",
    "df_corti = df[df['Descrizione_Length'] < 4]\n",
    "\n",
    "# Conto il numero ricavato di beni con descrizioni corte:\n",
    "print(\"Il numero totale di beni con descrizioni sotto i 4 caratteri è di: \", '\\033[1m','\\033[15;31;43m', df_corti.shape[0], '\\033[0m')\n",
    "\n",
    "# Trovo la relativa distribuzione\n",
    "df_corti = df_corti['Descrizione'].value_counts().reset_index()\n",
    "# Rinomino le colonne del data frame ottenuto:\n",
    "df_corti = df_corti.rename(columns={\"index\" : \"Stringa\", \"Descrizione\" : \"Count\"})\n",
    "# Esamino il risultato del data frame ottenuto stampandolo di seguito:\n",
    "display(df_corti.head(10))\n",
    "\n",
    "# Prima considerazione:\n",
    "print(\"I valori da togliere sono quindi: \", '\\033[1m','\\033[15;31;43m', 8,\n",
    "      '\\033[0m', \", ovvero tutte le values che non sono inerenti alle descrizionid dei Box.\")\n",
    "\n",
    "# A questo punto, instanzio in una lista i valori da eliminare:\n",
    "lista_drop = [\"C/2\", \"A/3\", \"A/5\"]\n",
    "# Creo una mask per il successivo filtraggio dei valori:\n",
    "drop_strings = df['Descrizione'].isin(lista_drop)\n",
    "# Elimino i valori dal data frame principale:\n",
    "df = df[~drop_strings]\n",
    "\n",
    "# Conto il numero di valori rimasti:\n",
    "print(\"Dopo il filtraggio il data frame ha N beni: \", '\\033[1m','\\033[15;31;43m', df.shape[0], '\\033[0m')"
   ]
  },
  {
   "cell_type": "markdown",
   "id": "ce60ea7b",
   "metadata": {},
   "source": [
    "### 2 - Elimino le colonne che non servono più, filtrando il data frame con solo le colonne che mi sono utili:"
   ]
  },
  {
   "cell_type": "code",
   "execution_count": 11,
   "id": "21a0744e",
   "metadata": {},
   "outputs": [
    {
     "name": "stdout",
     "output_type": "stream",
     "text": [
      "\u001b[1m \u001b[85;81;83m DestinazioneUso \u001b[0m\n",
      "\u001b[1m \u001b[85;81;83m CategoriaCatastale \u001b[0m\n",
      "\u001b[1m \u001b[85;81;83m Tribunale \u001b[0m\n",
      "\u001b[1m \u001b[85;81;83m Provincia \u001b[0m\n",
      "\u001b[1m \u001b[85;81;83m Comune \u001b[0m\n",
      "\u001b[1m \u001b[85;81;83m NumLotto_Int \u001b[0m\n",
      "\u001b[1m \u001b[85;81;83m NumeroVani_Float \u001b[0m\n",
      "\u001b[1m \u001b[85;81;83m Superficie_Calcolata \u001b[0m\n",
      "\u001b[1m \u001b[85;81;83m TipoCatasto_Bool \u001b[0m\n",
      "\u001b[1m \u001b[85;81;83m Descrizione \u001b[0m\n",
      "\u001b[1m \u001b[85;81;83m Descrizione_Length \u001b[0m\n"
     ]
    }
   ],
   "source": [
    "# Seleziono solo le colonne che mi serve tenere, ovvero quelle descrittive e quelle numeriche pulite prima:\n",
    "lista_colonne_tenere = ['DestinazioneUso',\n",
    "                        'CategoriaCatastale',\n",
    "                        'Tribunale',\n",
    "                        'Provincia',\n",
    "                        'Comune',\n",
    "                        'NumLotto_Int',\n",
    "                        'NumeroVani_Float',\n",
    "                        'Superficie_Calcolata',\n",
    "                        'TipoCatasto_Bool',\n",
    "                        'Descrizione',\n",
    "                        'Descrizione_Length']\n",
    "\n",
    "# Filtro il data frame con le liste selezionate:\n",
    "df_filtrato = df.loc[:, lista_colonne_tenere]\n",
    "\n",
    "# Check colonne filtrate:\n",
    "for col in df_filtrato.columns:\n",
    "    print('\\033[1m','\\033[85;81;83m', col, '\\033[0m')"
   ]
  },
  {
   "cell_type": "markdown",
   "id": "f614612f",
   "metadata": {},
   "source": [
    "### 3 - Rinomino le colonne del data frame:"
   ]
  },
  {
   "cell_type": "code",
   "execution_count": 12,
   "id": "ed3bb34e",
   "metadata": {},
   "outputs": [
    {
     "name": "stdout",
     "output_type": "stream",
     "text": [
      "\u001b[1m \u001b[85;81;83m Destinazione_Uso \u001b[0m\n",
      "\u001b[1m \u001b[85;81;83m Categoria_Catastale \u001b[0m\n",
      "\u001b[1m \u001b[85;81;83m Tribunale \u001b[0m\n",
      "\u001b[1m \u001b[85;81;83m Provincia \u001b[0m\n",
      "\u001b[1m \u001b[85;81;83m Comune \u001b[0m\n",
      "\u001b[1m \u001b[85;81;83m Numero_Lotto \u001b[0m\n",
      "\u001b[1m \u001b[85;81;83m Numero_Vani \u001b[0m\n",
      "\u001b[1m \u001b[85;81;83m Superficie \u001b[0m\n",
      "\u001b[1m \u001b[85;81;83m Catasto_Fabbricati \u001b[0m\n",
      "\u001b[1m \u001b[85;81;83m Descrizione_Bene \u001b[0m\n",
      "\u001b[1m \u001b[85;81;83m N_Caratteri \u001b[0m\n"
     ]
    }
   ],
   "source": [
    "# Indico i nomi delle nuove colonne del data frame:\n",
    "colonne_nomi = {'DestinazioneUso': 'Destinazione_Uso',\n",
    "                    'CategoriaCatastale': 'Categoria_Catastale',\n",
    "                    'Tribunale': 'Tribunale',\n",
    "                    'Provincia': 'Provincia',\n",
    "                    'Comune': 'Comune',\n",
    "                    'NumLotto_Int': 'Numero_Lotto',\n",
    "                    'NumeroVani_Float': 'Numero_Vani',\n",
    "                    'Superficie_Calcolata': 'Superficie',\n",
    "                    'TipoCatasto_Bool': 'Catasto_Fabbricati',\n",
    "                    'Descrizione': 'Descrizione_Bene',\n",
    "                    'Descrizione_Length' : 'N_Caratteri'}\n",
    "\n",
    "# Applico i nuovi nomi al data frame:\n",
    "df_filtrato.rename(columns = colonne_nomi, inplace=True)\n",
    "\n",
    "# Check colonne rinominate:\n",
    "for col in df_filtrato.columns:\n",
    "    print('\\033[1m','\\033[85;81;83m', col, '\\033[0m')"
   ]
  },
  {
   "cell_type": "markdown",
   "id": "54739082",
   "metadata": {},
   "source": [
    "### 4 - Conclusioni:\n",
    "\n",
    "- Le **colonne numeriche** sono state trasformare tutte da object a Integer o Float Format:\n",
    "    - **Numero_Lotto**: *Integer* ;\n",
    "    - **Numero_Vani**: *Float* ;\n",
    "    - **Superficie**: *Float* ;\n",
    "    \n",
    "\n",
    "- La colonne con due valori, sono state trasformate da object a boolean type:\n",
    "    - **Catasto_Fabbricati**: *Boolean* ;\n",
    "    - Da questa colonna sono stati **eliminati 916 dati** in quanto incongruenti;\n",
    "    \n",
    "\n",
    "- La colonne Descrizione invece è stata l'unica colonna Object rimasta Object. \n",
    "    - In essa sono state **eliminate le osservazioni troppo brevi**, droppando in totale **8 dati**.\n",
    "\n",
    "\n",
    "- E' stata creata una nuova colonna, in base al numero di caratteri presenti nella colonna Descrizione.\n",
    "    - **N_Caratteri**: *Integer* \n",
    "    \n",
    "\n",
    "- Il data frame è ora composto da 11 colonne:\n",
    "    - *6 colonne - Object* ;\n",
    "    - *2 colonne - Integers* ;\n",
    "    - *2 colonne - Floats* ;\n",
    "    - *1 colonnna - Boolean* .\n",
    "    \n",
    "    \n",
    "- Il data frame inizialmente comprendeva **222.736** Beni, ora dopo la fase di pulizia ne comprende **221.812**.\n",
    "    - Sono stati rimossi **924** beni dal data frame."
   ]
  },
  {
   "cell_type": "markdown",
   "id": "f8e4551c",
   "metadata": {},
   "source": [
    "### 5 - Export data frame file CSV:"
   ]
  },
  {
   "cell_type": "code",
   "execution_count": 13,
   "id": "e5faca73",
   "metadata": {},
   "outputs": [],
   "source": [
    "df_filtrato_csv = df_filtrato.to_csv('D:\\\\Master_Cefriel_DS_AI_Monolo\\\\0_Project_Work\\\\Dataset\\\\3_Dataset_Cleaning_2\\\\Dataset_Cleaning_2.csv',\n",
    "                                     index=False)"
   ]
  }
 ],
 "metadata": {
  "kernelspec": {
   "display_name": "Python 3 (ipykernel)",
   "language": "python",
   "name": "python3"
  },
  "language_info": {
   "codemirror_mode": {
    "name": "ipython",
    "version": 3
   },
   "file_extension": ".py",
   "mimetype": "text/x-python",
   "name": "python",
   "nbconvert_exporter": "python",
   "pygments_lexer": "ipython3",
   "version": "3.9.7"
  }
 },
 "nbformat": 4,
 "nbformat_minor": 5
}
