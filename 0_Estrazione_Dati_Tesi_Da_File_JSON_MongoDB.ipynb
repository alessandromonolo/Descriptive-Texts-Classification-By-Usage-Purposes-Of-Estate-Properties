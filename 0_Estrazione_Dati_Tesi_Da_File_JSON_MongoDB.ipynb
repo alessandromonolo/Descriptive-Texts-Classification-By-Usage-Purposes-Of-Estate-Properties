{
 "cells": [
  {
   "cell_type": "markdown",
   "id": "44dd75b5",
   "metadata": {},
   "source": [
    "Progetto: **Classificazione di testi descrittivi per destinazione d'uso, inerenti ai beni sottoposti ad aste giudiziarie italiane.**\n",
    "\n",
    "Studente: **Alessandro Monolo** | *10439147*\n",
    "\n",
    "Relatore: Marco Brambilla\n",
    "\n",
    "Referente aziendale: Simone Redaelli\n",
    "\n",
    "Master: Data Science & Artificial Intelligence\n",
    "\n",
    "Università: Politecnico di Milano\n",
    "\n",
    "<hr style=\"border:1px solid black\">\n",
    "\n",
    "# Filtro file JSON estratto da MongoDB con le colonne inerenti al progetto\n",
    "\n",
    "- **1.** **Filtro** il data frame estratto da MongoDB con tutte le colonne che mi servono;\n",
    "\n",
    "\n",
    "- **2.** **Analizzo** il data frame;\n",
    "\n",
    "\n",
    "- **3.** **Salvo** il data frame filtrato e corretto in un fomato **CSV**.\n",
    "\n",
    "<hr style=\"border:1px solid black\">\n",
    "\n",
    "**Importo le librerie che mi servono:**"
   ]
  },
  {
   "cell_type": "code",
   "execution_count": 1,
   "id": "4d80bbd3",
   "metadata": {},
   "outputs": [],
   "source": [
    "import pandas as pd"
   ]
  },
  {
   "cell_type": "markdown",
   "id": "1d056111",
   "metadata": {},
   "source": [
    "#### Set pandas options:"
   ]
  },
  {
   "cell_type": "code",
   "execution_count": 2,
   "id": "3aaadd40",
   "metadata": {},
   "outputs": [],
   "source": [
    "pd.set_option('display.max_colwidth', None)\n",
    "pd.options.display.max_rows = 5000\n",
    "pd.options.display.max_columns = 1000\n",
    "pd.options.mode.chained_assignment = None "
   ]
  },
  {
   "cell_type": "markdown",
   "id": "f0006229",
   "metadata": {},
   "source": [
    "**Importo file JSON**"
   ]
  },
  {
   "cell_type": "code",
   "execution_count": 3,
   "id": "773dbda0",
   "metadata": {},
   "outputs": [],
   "source": [
    "df_json = pd.read_json('D:\\\\Master_Cefriel_DS_AI_Monolo\\\\0_Project_Work\\\\Dataset\\\\0_Dataset_MongoDB\\\\10.08.2023\\\\Descrizioni beni DD2.json')"
   ]
  },
  {
   "cell_type": "markdown",
   "id": "89c7ed34",
   "metadata": {},
   "source": [
    "### 1 - Seleziono le colonne con le quali mi serve lavorare"
   ]
  },
  {
   "cell_type": "code",
   "execution_count": 4,
   "id": "84b27a8f",
   "metadata": {},
   "outputs": [],
   "source": [
    "column_list = [\"DestinazioneUso\",\n",
    "               \"CategoriaCatastale\",\n",
    "               \"Provincia\",\n",
    "               \"Comune\",\n",
    "               \"Tribunale\",\n",
    "               \"NumLotto\",\n",
    "               \"Superficie\",\n",
    "               \"NumeroVani\",\n",
    "               \"TipoCatasto\",\n",
    "               \"Descrizione\"]"
   ]
  },
  {
   "cell_type": "markdown",
   "id": "73b5d0db",
   "metadata": {},
   "source": [
    "**Filtro il Data Frame Pandas**"
   ]
  },
  {
   "cell_type": "code",
   "execution_count": 5,
   "id": "bbc3fbb4",
   "metadata": {},
   "outputs": [],
   "source": [
    "df = df_json.loc[:, column_list]"
   ]
  },
  {
   "cell_type": "markdown",
   "id": "c99b9f8d",
   "metadata": {},
   "source": [
    "### 2 - Controllo il df estratto appena filtrato"
   ]
  },
  {
   "cell_type": "code",
   "execution_count": 6,
   "id": "bb7405b7",
   "metadata": {},
   "outputs": [
    {
     "data": {
      "text/plain": [
       "(251510, 10)"
      ]
     },
     "execution_count": 6,
     "metadata": {},
     "output_type": "execute_result"
    }
   ],
   "source": [
    "df.shape"
   ]
  },
  {
   "cell_type": "markdown",
   "id": "0255bf83",
   "metadata": {},
   "source": [
    "- Il Data Frame è composto da **10** colonne e **251.510** righe;"
   ]
  },
  {
   "cell_type": "code",
   "execution_count": 7,
   "id": "de27e999",
   "metadata": {},
   "outputs": [
    {
     "name": "stdout",
     "output_type": "stream",
     "text": [
      "<class 'pandas.core.frame.DataFrame'>\n",
      "RangeIndex: 251510 entries, 0 to 251509\n",
      "Data columns (total 10 columns):\n",
      " #   Column              Non-Null Count   Dtype \n",
      "---  ------              --------------   ----- \n",
      " 0   DestinazioneUso     251510 non-null  object\n",
      " 1   CategoriaCatastale  251510 non-null  object\n",
      " 2   Provincia           251510 non-null  object\n",
      " 3   Comune              251510 non-null  object\n",
      " 4   Tribunale           251510 non-null  object\n",
      " 5   NumLotto            251510 non-null  object\n",
      " 6   Superficie          190981 non-null  object\n",
      " 7   NumeroVani          108586 non-null  object\n",
      " 8   TipoCatasto         251510 non-null  object\n",
      " 9   Descrizione         251472 non-null  object\n",
      "dtypes: object(10)\n",
      "memory usage: 19.2+ MB\n"
     ]
    }
   ],
   "source": [
    "df.info()"
   ]
  },
  {
   "cell_type": "markdown",
   "id": "a126d4f6",
   "metadata": {},
   "source": [
    "- Attualmente **nessuna** colonna è espressa in valori **numerici**;\n",
    "- Tutte le colonne sono quindi **Object** Format."
   ]
  },
  {
   "cell_type": "code",
   "execution_count": 8,
   "id": "5dfb154d",
   "metadata": {},
   "outputs": [
    {
     "name": "stdout",
     "output_type": "stream",
     "text": [
      "Somma delle Null Values per singola colonna del data frame:\n",
      "DestinazioneUso            0\n",
      "CategoriaCatastale         0\n",
      "Provincia                  0\n",
      "Comune                     0\n",
      "Tribunale                  0\n",
      "NumLotto                   0\n",
      "Superficie             60529\n",
      "NumeroVani            142924\n",
      "TipoCatasto                0\n",
      "Descrizione               38\n",
      "dtype: int64\n",
      "\n",
      "\n",
      "Null Values espresse in termini percentuali per singola colonna del data frame:\n",
      "DestinazioneUso        0.000000\n",
      "CategoriaCatastale     0.000000\n",
      "Provincia              0.000000\n",
      "Comune                 0.000000\n",
      "Tribunale              0.000000\n",
      "NumLotto               0.000000\n",
      "Superficie            24.066240\n",
      "NumeroVani            56.826369\n",
      "TipoCatasto            0.000000\n",
      "Descrizione            0.015109\n",
      "dtype: float64\n"
     ]
    }
   ],
   "source": [
    "print(\"Somma delle Null Values per singola colonna del data frame:\")\n",
    "print(df.isnull().sum())\n",
    "print(\"\\n\")\n",
    "print(\"Null Values espresse in termini percentuali per singola colonna del data frame:\")\n",
    "print(df.isnull().sum()*100 / len(df))"
   ]
  },
  {
   "cell_type": "markdown",
   "id": "fc7f5209",
   "metadata": {},
   "source": [
    "- La maggior parte delle colonne non presenta Null Values al loro interno;\n",
    "- Le uniche sono le colonne \"**Superficie**\" e \"**NumeroVani**\".\n",
    "    - Questa presenza massiccia di Null Values può essere inerente al fatto che all'interno del data frame i suddetti campi vengono/possono essere mappati solo nel caso in cui non si tratti di terreni (ovvero beni con destinazione d'uso equivalente a LAND);\n",
    "- Il campo \"**Descrizione**\" è vuoto in 38 casi;\n",
    "    - Devo quindi rimuovere tutte quelle righe dove in questo campo non esistono stringhe descrittive del bene, prima di esportare il data frame appena filtrato."
   ]
  },
  {
   "cell_type": "code",
   "execution_count": 9,
   "id": "26c8507a",
   "metadata": {},
   "outputs": [
    {
     "data": {
      "text/html": [
       "<div>\n",
       "<style scoped>\n",
       "    .dataframe tbody tr th:only-of-type {\n",
       "        vertical-align: middle;\n",
       "    }\n",
       "\n",
       "    .dataframe tbody tr th {\n",
       "        vertical-align: top;\n",
       "    }\n",
       "\n",
       "    .dataframe thead th {\n",
       "        text-align: right;\n",
       "    }\n",
       "</style>\n",
       "<table border=\"1\" class=\"dataframe\">\n",
       "  <thead>\n",
       "    <tr style=\"text-align: right;\">\n",
       "      <th></th>\n",
       "      <th>DestinazioneUso</th>\n",
       "      <th>CategoriaCatastale</th>\n",
       "      <th>Provincia</th>\n",
       "      <th>Comune</th>\n",
       "      <th>Tribunale</th>\n",
       "      <th>NumLotto</th>\n",
       "      <th>Superficie</th>\n",
       "      <th>NumeroVani</th>\n",
       "      <th>TipoCatasto</th>\n",
       "      <th>Descrizione</th>\n",
       "    </tr>\n",
       "  </thead>\n",
       "  <tbody>\n",
       "    <tr>\n",
       "      <th>count</th>\n",
       "      <td>251510</td>\n",
       "      <td>251510</td>\n",
       "      <td>251510</td>\n",
       "      <td>251510</td>\n",
       "      <td>251510</td>\n",
       "      <td>251510</td>\n",
       "      <td>190981</td>\n",
       "      <td>108586</td>\n",
       "      <td>251510</td>\n",
       "      <td>251472</td>\n",
       "    </tr>\n",
       "    <tr>\n",
       "      <th>unique</th>\n",
       "      <td>8</td>\n",
       "      <td>53</td>\n",
       "      <td>109</td>\n",
       "      <td>6379</td>\n",
       "      <td>190</td>\n",
       "      <td>3159</td>\n",
       "      <td>5369</td>\n",
       "      <td>240</td>\n",
       "      <td>2</td>\n",
       "      <td>154601</td>\n",
       "    </tr>\n",
       "    <tr>\n",
       "      <th>top</th>\n",
       "      <td>RESIDENTIAL</td>\n",
       "      <td>A2</td>\n",
       "      <td>RM</td>\n",
       "      <td>ROMA</td>\n",
       "      <td>BERGAMO</td>\n",
       "      <td>1</td>\n",
       "      <td>0</td>\n",
       "      <td>5</td>\n",
       "      <td>F</td>\n",
       "      <td>Appartamento al piano primo.</td>\n",
       "    </tr>\n",
       "    <tr>\n",
       "      <th>freq</th>\n",
       "      <td>175185</td>\n",
       "      <td>50771</td>\n",
       "      <td>20882</td>\n",
       "      <td>11376</td>\n",
       "      <td>14790</td>\n",
       "      <td>151590</td>\n",
       "      <td>115300</td>\n",
       "      <td>10603</td>\n",
       "      <td>241555</td>\n",
       "      <td>815</td>\n",
       "    </tr>\n",
       "  </tbody>\n",
       "</table>\n",
       "</div>"
      ],
      "text/plain": [
       "       DestinazioneUso CategoriaCatastale Provincia  Comune Tribunale  \\\n",
       "count           251510             251510    251510  251510    251510   \n",
       "unique               8                 53       109    6379       190   \n",
       "top        RESIDENTIAL                 A2        RM    ROMA   BERGAMO   \n",
       "freq            175185              50771     20882   11376     14790   \n",
       "\n",
       "       NumLotto Superficie NumeroVani TipoCatasto  \\\n",
       "count    251510     190981     108586      251510   \n",
       "unique     3159       5369        240           2   \n",
       "top           1          0          5           F   \n",
       "freq     151590     115300      10603      241555   \n",
       "\n",
       "                         Descrizione  \n",
       "count                         251472  \n",
       "unique                        154601  \n",
       "top     Appartamento al piano primo.  \n",
       "freq                             815  "
      ]
     },
     "execution_count": 9,
     "metadata": {},
     "output_type": "execute_result"
    }
   ],
   "source": [
    "df.describe()"
   ]
  },
  {
   "cell_type": "markdown",
   "id": "3841d5c0",
   "metadata": {},
   "source": [
    "- Ci sono **8** classi nel campo **destinazione d'uso**;\n",
    "    - La più frequente è la classe \"**RESIDENTIAL**\", presente **175.185** volte, con categoria catastale **A2**;\n",
    "- Il comune più citato è il comune di ROMA;\n",
    "- Mentre il tribunale di assegnazione più frequente nel data frame è quello di **Bergamo**;\n",
    "- Da notare inoltre che la Mq minima è pari a zero, quindi un ipotetico errore da indagare successivamente."
   ]
  },
  {
   "cell_type": "markdown",
   "id": "21ea7d49",
   "metadata": {},
   "source": [
    "**Droppo tutte le righe dove in entrambi i campi Descrizione e DescrizioneLotto i valori sono assenti**"
   ]
  },
  {
   "cell_type": "code",
   "execution_count": 10,
   "id": "08420538",
   "metadata": {},
   "outputs": [],
   "source": [
    "df_filtrato = df.dropna(subset=['Descrizione'], how='all')"
   ]
  },
  {
   "cell_type": "markdown",
   "id": "72e27ab8",
   "metadata": {},
   "source": [
    "**Stampo ora il totale delle righe droppate**"
   ]
  },
  {
   "cell_type": "code",
   "execution_count": 11,
   "id": "2b87b70b",
   "metadata": {},
   "outputs": [
    {
     "name": "stdout",
     "output_type": "stream",
     "text": [
      "Numero righe rimosse:  38\n"
     ]
    }
   ],
   "source": [
    "print(\"Numero righe rimosse: \", df.shape[0] - df_filtrato.shape[0])"
   ]
  },
  {
   "cell_type": "markdown",
   "id": "ecd9a671",
   "metadata": {},
   "source": [
    "- Sono stati eliminati **38 beni** dove nel campo Descrizione era effettivamente presente una descrizione;"
   ]
  },
  {
   "cell_type": "markdown",
   "id": "a673ed2b",
   "metadata": {},
   "source": [
    "### Elimino tutti i beni che non ha una Destinazione D'Uso, ovvero tutti quei beni che sono identificati come \"OTHER\" nella Target Variable."
   ]
  },
  {
   "cell_type": "code",
   "execution_count": 12,
   "id": "f10c7901",
   "metadata": {},
   "outputs": [],
   "source": [
    "df_filtrato = df_filtrato[df_filtrato[\"DestinazioneUso\"] != \"OTHER\"]"
   ]
  },
  {
   "cell_type": "markdown",
   "id": "3cf9222e",
   "metadata": {},
   "source": [
    "#### Prima di salvare il nuovo data frame filtrato, sostituisco la stringa \"NA\" con \"NAP\" per la provincia di Napoli, al fine di evitare che durante l'import nei prossimi step possa essere letta come una Null Values"
   ]
  },
  {
   "cell_type": "code",
   "execution_count": 13,
   "id": "df6aa93b",
   "metadata": {},
   "outputs": [],
   "source": [
    "# Sostituisco la stringa NA con NAP per evitare null values:\n",
    "df_filtrato.loc[df_filtrato[\"Provincia\"] == \"NA\", \"Provincia\"] = \"NAP\""
   ]
  },
  {
   "cell_type": "markdown",
   "id": "1e4f808c",
   "metadata": {},
   "source": [
    "### 3 - Procedo a salvare il data frame filtrato in un file formato CSV: "
   ]
  },
  {
   "cell_type": "code",
   "execution_count": 14,
   "id": "18a62cdc",
   "metadata": {},
   "outputs": [],
   "source": [
    "df_filtrato_csv = df_filtrato.to_csv(\"D:\\\\Master_Cefriel_DS_AI_Monolo\\\\0_Project_Work\\\\Dataset\\\\1_Dataset_Filtrato\\\\Descrizioni_Filtrate_10.08.2023.csv\",\n",
    "                                     index=False)"
   ]
  }
 ],
 "metadata": {
  "kernelspec": {
   "display_name": "Python 3 (ipykernel)",
   "language": "python",
   "name": "python3"
  },
  "language_info": {
   "codemirror_mode": {
    "name": "ipython",
    "version": 3
   },
   "file_extension": ".py",
   "mimetype": "text/x-python",
   "name": "python",
   "nbconvert_exporter": "python",
   "pygments_lexer": "ipython3",
   "version": "3.9.7"
  }
 },
 "nbformat": 4,
 "nbformat_minor": 5
}
