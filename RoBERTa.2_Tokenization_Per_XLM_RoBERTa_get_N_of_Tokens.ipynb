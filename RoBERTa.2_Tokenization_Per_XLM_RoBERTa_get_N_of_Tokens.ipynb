{
 "cells": [
  {
   "cell_type": "markdown",
   "id": "4cce13ac",
   "metadata": {},
   "source": [
    "Progetto: **Classificazione di testi descrittivi per destinazione d'uso, inerenti ai beni sottoposti ad aste giudiziarie italiane.**\n",
    "\n",
    "Studente: **Alessandro Monolo** | *10439147*\n",
    "\n",
    "Relatore: Marco Brambilla\n",
    "\n",
    "Referente aziendale: Simone Redaelli\n",
    "\n",
    "Master: Data Science & Artificial Intelligence\n",
    "\n",
    "Università: Politecnico di Milano\n",
    "\n",
    "<hr style=\"border:1px solid black\">\n",
    "\n",
    "## Trovo il numero minimo, massimo e distribuzione dei tokens derivanti dal modello XLM Roberta sulla variabile testuale preprocessata\n",
    "\n",
    "\n",
    "<hr style=\"border:1px solid black\">\n",
    "\n",
    "**Importo le librerie che mi servono:**"
   ]
  },
  {
   "cell_type": "code",
   "execution_count": 1,
   "id": "74efb536",
   "metadata": {},
   "outputs": [],
   "source": [
    "import pandas as pd\n",
    "import numpy as np\n",
    "import re\n",
    "import seaborn as sns\n",
    "import matplotlib.pyplot as plt\n",
    "import warnings\n",
    "from matplotlib import cm\n",
    "from PIL import Image\n",
    "import string\n",
    "import unicodedata\n",
    "import time\n",
    "import torch"
   ]
  },
  {
   "cell_type": "code",
   "execution_count": 2,
   "id": "8f934223",
   "metadata": {},
   "outputs": [
    {
     "name": "stdout",
     "output_type": "stream",
     "text": [
      "No GPU available, using the CPU instead.\n"
     ]
    }
   ],
   "source": [
    "# check if we have cuda installed\n",
    "if torch.cuda.is_available():\n",
    "    # to use GPU\n",
    "    device = torch.device(\"cuda\")\n",
    "    print('There are %d GPU(s) available.' % torch.cuda.device_count())\n",
    "    print('GPU is:', torch.cuda.get_device_name(0))\n",
    "else:\n",
    "    print('No GPU available, using the CPU instead.')\n",
    "    device = torch.device(\"cpu\")"
   ]
  },
  {
   "cell_type": "markdown",
   "id": "1d056111",
   "metadata": {},
   "source": [
    "#### Set pandas options:"
   ]
  },
  {
   "cell_type": "code",
   "execution_count": 3,
   "id": "3aaadd40",
   "metadata": {},
   "outputs": [],
   "source": [
    "pd.set_option('display.max_colwidth', None)\n",
    "pd.options.display.max_rows = 5000\n",
    "pd.options.display.max_columns = 1000\n",
    "pd.options.display.float_format = '{:.4f}'.format\n",
    "pd.options.mode.chained_assignment = None"
   ]
  },
  {
   "cell_type": "markdown",
   "id": "0b70e184",
   "metadata": {},
   "source": [
    "**Importo file CSV**"
   ]
  },
  {
   "cell_type": "code",
   "execution_count": 4,
   "id": "fe04dc71",
   "metadata": {},
   "outputs": [],
   "source": [
    "df = pd.read_csv(\"D:\\\\Master_Cefriel_DS_AI_Monolo\\\\0_Project_Work\\\\Dataset\\\\12_Dataset_XLM_RoBERTa_Model\\\\Dataset_XLM_RoBERTa_Model.csv\")"
   ]
  },
  {
   "cell_type": "code",
   "execution_count": 5,
   "id": "fbf3b950",
   "metadata": {},
   "outputs": [],
   "source": [
    "from transformers import AutoTokenizer, XLMRobertaTokenizer, XLMRobertaForSequenceClassification, AdamW\n",
    "import torch\n",
    "from torch.utils.data import DataLoader, TensorDataset, RandomSampler, SequentialSampler"
   ]
  },
  {
   "cell_type": "markdown",
   "id": "395615b0",
   "metadata": {},
   "source": [
    "### Trovo il numero minimo, massimo e la relativa distribuzione dei tokens derivanti dal modello XLM RoBRTa"
   ]
  },
  {
   "cell_type": "code",
   "execution_count": 6,
   "id": "5ce34b10",
   "metadata": {},
   "outputs": [
    {
     "name": "stderr",
     "output_type": "stream",
     "text": [
      "Token indices sequence length is longer than the specified maximum sequence length for this model (682 > 512). Running this sequence through the model will result in indexing errors\n"
     ]
    },
    {
     "name": "stdout",
     "output_type": "stream",
     "text": [
      "max number of tokens found:  746\n",
      "min number of tokens found:  3\n"
     ]
    },
    {
     "data": {
      "image/png": "[encoded data removed]",
      "text/plain": [
       "<Figure size 1440x468 with 1 Axes>"
      ]
     },
     "metadata": {
      "needs_background": "light"
     },
     "output_type": "display_data"
    }
   ],
   "source": [
    "tokenizer = AutoTokenizer.from_pretrained('xlm-roberta-base')\n",
    "\n",
    "text_descriptions = df[\"Descrizione_Bene_Pre_Process\"].astype(str).tolist()\n",
    "\n",
    "\n",
    "tokenized_feature_raw = tokenizer.batch_encode_plus(text_descriptions,\n",
    "                                                    add_special_tokens=True)\n",
    "\n",
    "token_sentence_length = [len(x) for x in tokenized_feature_raw['input_ids']]\n",
    "\n",
    "print('max number of tokens found: ', max(token_sentence_length))\n",
    "print('min number of tokens found: ', min(token_sentence_length))\n",
    "\n",
    "\n",
    "plt.figure(figsize=(20, 6.5))\n",
    "plt.hist(token_sentence_length, rwidth=0.7, bins=115)\n",
    "sns.rugplot(token_sentence_length, color='r', height=0.01)\n",
    "plt.xlabel('Sequence length in N° of tokens', fontsize=18)\n",
    "plt.ylabel('Count of samples', fontsize=18)\n",
    "plt.xticks(fontsize=11)\n",
    "plt.yticks(fontsize=11)\n",
    "plt.show()"
   ]
  }
 ],
 "metadata": {
  "kernelspec": {
   "display_name": "Python 3 (ipykernel)",
   "language": "python",
   "name": "python3"
  },
  "language_info": {
   "codemirror_mode": {
    "name": "ipython",
    "version": 3
   },
   "file_extension": ".py",
   "mimetype": "text/x-python",
   "name": "python",
   "nbconvert_exporter": "python",
   "pygments_lexer": "ipython3",
   "version": "3.9.7"
  }
 },
 "nbformat": 4,
 "nbformat_minor": 5
}
