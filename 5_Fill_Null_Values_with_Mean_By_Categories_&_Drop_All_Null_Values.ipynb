{
 "cells": [
  {
   "cell_type": "markdown",
   "id": "4cce13ac",
   "metadata": {},
   "source": [
    "Progetto: **Classificazione di testi descrittivi per destinazione d'uso, inerenti ai beni sottoposti ad aste giudiziarie italiane.**\n",
    "\n",
    "Studente: **Alessandro Monolo** | *10439147*\n",
    "\n",
    "Relatore: Marco Brambilla\n",
    "\n",
    "Referente aziendale: Simone Redaelli\n",
    "\n",
    "Master: Data Science & Artificial Intelligence\n",
    "\n",
    "Università: Politecnico di Milano\n",
    "\n",
    "<hr style=\"border:1px solid black\">\n",
    "\n",
    "## Fill Null Values per specifiche destinazioni d'uso e drop delle null values da data frame\n",
    "\n",
    "- **1.** Mostro la **distribuzione delle null values** tramite heatmap;\n",
    "\n",
    "\n",
    "- **2.** Mostro la **distribuzione dei beni** tra le **destinazioni d'uso** tra i beni del data frame;\n",
    "\n",
    "\n",
    "- **3.** Mappo con la **media aritmetica** le **null values** presenti nelle colonne numeriche per la destinazione d'uso **Agricultural Building**;\n",
    "\n",
    "\n",
    "- **4.** Mappo con la **media aritmetica** le **null values** presenti nelle colonne numeriche per la destinazione d'uso **Hotel**;\n",
    "\n",
    "\n",
    "- **5.** **Drop** di tutte le **Null Values** da data frame;\n",
    "\n",
    "\n",
    "- **6.** **Check** del data frame ottenuto dopo l'eliminazione di tutte le null values & **Conclusioni**;\n",
    "\n",
    "\n",
    "- **7.** **Export** del data frame in file CSV.\n",
    "\n",
    "<hr style=\"border:1px solid black\">\n",
    "\n",
    "**Importo le librerie che mi servono:**"
   ]
  },
  {
   "cell_type": "code",
   "execution_count": 1,
   "id": "74efb536",
   "metadata": {},
   "outputs": [],
   "source": [
    "import pandas as pd\n",
    "import numpy as np\n",
    "import re\n",
    "import matplotlib.pyplot as plt\n",
    "import seaborn as sns\n",
    "import warnings"
   ]
  },
  {
   "cell_type": "markdown",
   "id": "1d056111",
   "metadata": {},
   "source": [
    "#### Set pandas options:"
   ]
  },
  {
   "cell_type": "code",
   "execution_count": 2,
   "id": "3aaadd40",
   "metadata": {},
   "outputs": [],
   "source": [
    "pd.set_option('display.max_colwidth', None)\n",
    "pd.options.display.max_rows = 5000\n",
    "pd.options.display.max_columns = 1000\n",
    "pd.options.display.float_format = '{:.2f}'.format"
   ]
  },
  {
   "cell_type": "markdown",
   "id": "0b70e184",
   "metadata": {},
   "source": [
    "**Importo file CSV**"
   ]
  },
  {
   "cell_type": "code",
   "execution_count": 3,
   "id": "fba56da9",
   "metadata": {},
   "outputs": [],
   "source": [
    "df = pd.read_csv(\"D:\\\\Master_Cefriel_DS_AI_Monolo\\\\0_Project_Work\\\\Dataset\\\\5_Dataset_FillNullValues_&_DropNa\\\\Dataset_FillNullValues_&_DropNa.csv\",\n",
    "                 dtype={'Numero_Lotto' : 'Int64'})"
   ]
  },
  {
   "cell_type": "code",
   "execution_count": 4,
   "id": "34f3e04c",
   "metadata": {},
   "outputs": [
    {
     "name": "stdout",
     "output_type": "stream",
     "text": [
      "- Attualmente il data fram è composto da N° beni:  \u001b[1m \u001b[15;31;43m 193181 \u001b[0m\n"
     ]
    }
   ],
   "source": [
    "print(\"- Attualmente il data fram è composto da N° beni: \", '\\033[1m','\\033[15;31;43m', df.shape[0], '\\033[0m')"
   ]
  },
  {
   "cell_type": "markdown",
   "id": "fd00e4ab",
   "metadata": {},
   "source": [
    "### 1 - Mostro la distribuzione delle null values tra le varrie colonne del data frame"
   ]
  },
  {
   "cell_type": "code",
   "execution_count": 5,
   "id": "e6843f71",
   "metadata": {},
   "outputs": [
    {
     "data": {
      "image/png": "[encoded data removed]",
      "text/plain": [
       "<Figure size 1440x360 with 1 Axes>"
      ]
     },
     "metadata": {
      "needs_background": "light"
     },
     "output_type": "display_data"
    }
   ],
   "source": [
    "plt.figure(figsize = (20, 5))\n",
    "sns.heatmap(df.isnull(), cbar = False, cmap = 'inferno')\n",
    "plt.show()"
   ]
  },
  {
   "cell_type": "markdown",
   "id": "7a7c8934",
   "metadata": {},
   "source": [
    "- Le uniche colonne del dataframe che presentano null values sono le seguenti:\n",
    "    - **Numero Lotto**;\n",
    "    - **Numero Vani**;\n",
    "    - **Superficie**."
   ]
  },
  {
   "cell_type": "markdown",
   "id": "e2cc56cd",
   "metadata": {},
   "source": [
    "### 2 - Mostro la divisione delle destinazioni d'uso tra i beni del data frame ottenuto finora:"
   ]
  },
  {
   "cell_type": "code",
   "execution_count": 6,
   "id": "d7310748",
   "metadata": {},
   "outputs": [
    {
     "data": {
      "text/plain": [
       "RESIDENTIAL              149973\n",
       "STORAGE                   18937\n",
       "RETAIL                     8702\n",
       "LAND                       8071\n",
       "INDUSTRIAL                 6388\n",
       "HOTEL                       560\n",
       "AGRICULTURAL BUILDING       550\n",
       "Name: Destinazione_Uso, dtype: int64"
      ]
     },
     "execution_count": 6,
     "metadata": {},
     "output_type": "execute_result"
    }
   ],
   "source": [
    "df['Destinazione_Uso'].value_counts()"
   ]
  },
  {
   "cell_type": "markdown",
   "id": "0922618d",
   "metadata": {},
   "source": [
    "- **Considerazioni:**\n",
    "    - Le due destinazioni d'uso più **sotto rappresentate** sono **Agricultural Building** & **Hotel**;\n",
    "    - Al fine di evitare un loro ulteriore ridimensionamento, devo mappare ove possibile, le **Null Values** presenti all'interno delle colonne che presentano almeno una Null Values, Ovvero: '**Numero_Lotto**', '**Numero_Vani**', '**Superficie**';\n",
    "    - Per poter mappare le Null Values in questi tre campi, per queste due destinazioni d'uso, utilizzerò la **media aritmetica**."
   ]
  },
  {
   "cell_type": "markdown",
   "id": "e10f4f71",
   "metadata": {},
   "source": [
    "### 3 - Fill Null Values per la destinazione d'uso: AGRICULTURAL BUILDING\n",
    "\n",
    "- Controllo **se esitono più categorie catastali** all'interno della destinazione d'uso Agricultural Building:"
   ]
  },
  {
   "cell_type": "code",
   "execution_count": 7,
   "id": "d787e02e",
   "metadata": {},
   "outputs": [
    {
     "name": "stdout",
     "output_type": "stream",
     "text": [
      "-  A6    550\n",
      "Name: Categoria_Catastale, dtype: int64\n"
     ]
    }
   ],
   "source": [
    "print(\"- \", df[df['Destinazione_Uso'] == \"AGRICULTURAL BUILDING\"]['Categoria_Catastale'].value_counts())"
   ]
  },
  {
   "cell_type": "markdown",
   "id": "f263ad1d",
   "metadata": {},
   "source": [
    "- Essendo **tutte relative alla stessa categoria catastale A6** posso generalizzare con la media aritmetica."
   ]
  },
  {
   "cell_type": "code",
   "execution_count": 8,
   "id": "ddd8cb2e",
   "metadata": {},
   "outputs": [
    {
     "name": "stdout",
     "output_type": "stream",
     "text": [
      "Destinazione_Uso        0\n",
      "Categoria_Catastale     0\n",
      "Tribunale               0\n",
      "Provincia               0\n",
      "Comune                  0\n",
      "Numero_Lotto            5\n",
      "Numero_Vani            50\n",
      "Superficie             50\n",
      "Catasto_Fabbricati      0\n",
      "Descrizione_Bene        0\n",
      "N_Caratteri             0\n",
      "dtype: int64\n"
     ]
    }
   ],
   "source": [
    "print(df[df['Destinazione_Uso'] == \"AGRICULTURAL BUILDING\"].isnull().sum())"
   ]
  },
  {
   "cell_type": "markdown",
   "id": "4e583a62",
   "metadata": {},
   "source": [
    "- Ci sono quindi da mappare **5 Null Values** per la colonna \"**Numero_Lotto**\", **50 null values** per le colonne \"**Numero_Vani**\" e \"**Superficie**\";\n",
    "- Quindi calcolo per ogni colonna con null values la **media espressa in integer** value e mappo le rispettive colonne con i valori estratti."
   ]
  },
  {
   "cell_type": "code",
   "execution_count": 9,
   "id": "778442a4",
   "metadata": {},
   "outputs": [
    {
     "name": "stdout",
     "output_type": "stream",
     "text": [
      "- Media numero lotto per destinazione d'uso Agricultural Building:  2\n",
      "- Media numero vani per destinazione d'uso Agricultural Building:  4\n",
      "- Media superficie per destinazione d'uso Agricultural Building:  84\n"
     ]
    }
   ],
   "source": [
    "# Calcolo il numero medio lotto per la categoria Agricultural Building:\n",
    "mean_agri_lotti = int(df[df['Destinazione_Uso'] == 'AGRICULTURAL BUILDING']['Numero_Lotto'].mean())\n",
    "print(\"- Media numero lotto per destinazione d'uso Agricultural Building: \", mean_agri_lotti)\n",
    "# Calcolo il numero medio di vani per la categoria Agricultural Building:\n",
    "mean_agri_vani = int(df[df['Destinazione_Uso'] == 'AGRICULTURAL BUILDING']['Numero_Vani'].mean())\n",
    "print(\"- Media numero vani per destinazione d'uso Agricultural Building: \", mean_agri_vani)\n",
    "# Calcolo la superficie media per la categoria Agricultural Building:\n",
    "mean_agri_sup = int(df[df['Destinazione_Uso'] == 'AGRICULTURAL BUILDING']['Superficie'].mean())\n",
    "print(\"- Media superficie per destinazione d'uso Agricultural Building: \", mean_agri_sup)\n",
    "\n",
    "# Mappo la colonna Numero lotto con la media ottenuta:\n",
    "df.loc[(df['Destinazione_Uso'] == 'AGRICULTURAL BUILDING') & (df['Numero_Lotto'].isnull()), 'Numero_Lotto'] = mean_agri_lotti\n",
    "# Mappo la colonna Numero vani con la media ottenuta:\n",
    "df.loc[(df['Destinazione_Uso'] == 'AGRICULTURAL BUILDING') & (df['Numero_Vani'].isnull()), 'Numero_Vani'] = mean_agri_vani\n",
    "# Mappo la colonna superficie con la media ottenuta:\n",
    "df.loc[(df['Destinazione_Uso'] == 'AGRICULTURAL BUILDING') & (df['Superficie'].isnull()), 'Superficie'] = mean_agri_sup"
   ]
  },
  {
   "cell_type": "markdown",
   "id": "c3943f2b",
   "metadata": {},
   "source": [
    "- **Check** se ci sono ancora Null Values nelle colonne menzionate per la destinazione d'uso **Agricultural Building**."
   ]
  },
  {
   "cell_type": "code",
   "execution_count": 10,
   "id": "3d5c260d",
   "metadata": {},
   "outputs": [
    {
     "name": "stdout",
     "output_type": "stream",
     "text": [
      "Destinazione_Uso       0\n",
      "Categoria_Catastale    0\n",
      "Tribunale              0\n",
      "Provincia              0\n",
      "Comune                 0\n",
      "Numero_Lotto           0\n",
      "Numero_Vani            0\n",
      "Superficie             0\n",
      "Catasto_Fabbricati     0\n",
      "Descrizione_Bene       0\n",
      "N_Caratteri            0\n",
      "dtype: int64\n"
     ]
    }
   ],
   "source": [
    "print(df[df['Destinazione_Uso'] == \"AGRICULTURAL BUILDING\"].isnull().sum())"
   ]
  },
  {
   "cell_type": "markdown",
   "id": "cdd94120",
   "metadata": {},
   "source": [
    "### 4 - Fill Null Values per la destinazione d'uso: HOTEL\n",
    "\n",
    "- Controllo **se esitono più categorie catastali** all'interno della destinazione d'uso Hotel:"
   ]
  },
  {
   "cell_type": "code",
   "execution_count": 11,
   "id": "67a9a187",
   "metadata": {},
   "outputs": [
    {
     "name": "stdout",
     "output_type": "stream",
     "text": [
      "-  D2    560\n",
      "Name: Categoria_Catastale, dtype: int64\n"
     ]
    }
   ],
   "source": [
    "print(\"- \", df[df['Destinazione_Uso'] == \"HOTEL\"]['Categoria_Catastale'].value_counts())"
   ]
  },
  {
   "cell_type": "markdown",
   "id": "4a4ec3b2",
   "metadata": {},
   "source": [
    "- Essendo **tutte relative alla stessa categoria catastale D2** posso generalizzare con la media aritmetica."
   ]
  },
  {
   "cell_type": "code",
   "execution_count": 12,
   "id": "79df1c46",
   "metadata": {},
   "outputs": [
    {
     "name": "stdout",
     "output_type": "stream",
     "text": [
      "Destinazione_Uso         0\n",
      "Categoria_Catastale      0\n",
      "Tribunale                0\n",
      "Provincia                0\n",
      "Comune                   0\n",
      "Numero_Lotto             3\n",
      "Numero_Vani            384\n",
      "Superficie             384\n",
      "Catasto_Fabbricati       0\n",
      "Descrizione_Bene         0\n",
      "N_Caratteri              0\n",
      "dtype: int64\n"
     ]
    }
   ],
   "source": [
    "print(df[df['Destinazione_Uso'] == \"HOTEL\"].isnull().sum())"
   ]
  },
  {
   "cell_type": "markdown",
   "id": "1c67dcaa",
   "metadata": {},
   "source": [
    "- Ci sono quindi da mappare **3 Null Values** per la colonna \"**Numero_Lotto**\", **384 null values** per le colonne \"**Numero_Vani**\" e \"**Superficie**\";\n",
    "- Quindi calcolo per ogni colonna con null values la **media espressa in integer** value e mappo le rispettive colonne con i valori estratti."
   ]
  },
  {
   "cell_type": "code",
   "execution_count": 13,
   "id": "193d9003",
   "metadata": {},
   "outputs": [
    {
     "name": "stdout",
     "output_type": "stream",
     "text": [
      "- Media numero lotto per destinazione d'uso HOTEL:  1\n",
      "- Media numero vani per destinazione d'uso HOTEL:  27\n",
      "- Media superficie per destinazione d'uso HOTEL:  558\n"
     ]
    }
   ],
   "source": [
    "# Calcolo il numero medio lotto per la categoria HOTEL:\n",
    "mean_hotel_lotti = int(df[df['Destinazione_Uso'] == 'HOTEL']['Numero_Lotto'].mean())\n",
    "print(\"- Media numero lotto per destinazione d'uso HOTEL: \", mean_hotel_lotti)\n",
    "# Calcolo il numero medio di vani per la categoria HOTEL:\n",
    "mean_hotel_vani = int(df[df['Destinazione_Uso'] == 'HOTEL']['Numero_Vani'].mean())\n",
    "print(\"- Media numero vani per destinazione d'uso HOTEL: \", mean_hotel_vani)\n",
    "# Calcolo la superficie media per la categoria HOTEL:\n",
    "mean_hotel_sup = int(df[df['Destinazione_Uso'] == 'HOTEL']['Superficie'].mean())\n",
    "print(\"- Media superficie per destinazione d'uso HOTEL: \", mean_hotel_sup)\n",
    "\n",
    "# Mappo la colonna Numero lotto con la media ottenuta:\n",
    "df.loc[(df['Destinazione_Uso'] == 'HOTEL') & (df['Numero_Lotto'].isnull()), 'Numero_Lotto'] = mean_hotel_lotti\n",
    "# Mappo la colonna Numero vani con la media ottenuta:\n",
    "df.loc[(df['Destinazione_Uso'] == 'HOTEL') & (df['Numero_Vani'].isnull()), 'Numero_Vani'] = mean_hotel_vani\n",
    "# Mappo la colonna superficie con la media ottenuta:\n",
    "df.loc[(df['Destinazione_Uso'] == 'HOTEL') & (df['Superficie'].isnull()), 'Superficie'] = mean_hotel_sup"
   ]
  },
  {
   "cell_type": "markdown",
   "id": "1d674568",
   "metadata": {},
   "source": [
    "- **Check** se ci sono ancora Null Values nelle colonne menzionate per la destinazione d'uso **Hotel**."
   ]
  },
  {
   "cell_type": "code",
   "execution_count": 14,
   "id": "b1ca6366",
   "metadata": {},
   "outputs": [
    {
     "name": "stdout",
     "output_type": "stream",
     "text": [
      "Destinazione_Uso       0\n",
      "Categoria_Catastale    0\n",
      "Tribunale              0\n",
      "Provincia              0\n",
      "Comune                 0\n",
      "Numero_Lotto           0\n",
      "Numero_Vani            0\n",
      "Superficie             0\n",
      "Catasto_Fabbricati     0\n",
      "Descrizione_Bene       0\n",
      "N_Caratteri            0\n",
      "dtype: int64\n"
     ]
    }
   ],
   "source": [
    "print(df[df['Destinazione_Uso'] == \"HOTEL\"].isnull().sum())"
   ]
  },
  {
   "cell_type": "markdown",
   "id": "d946b03f",
   "metadata": {},
   "source": [
    "### 5 - Elimino tutte le righe che presentano almeno una null values nelle colonne del data frame\n",
    "\n",
    "- Elimino tutte le righe del data frame che presentano almeno una null values in una colonna del data frame."
   ]
  },
  {
   "cell_type": "code",
   "execution_count": 15,
   "id": "da29935d",
   "metadata": {},
   "outputs": [],
   "source": [
    "df_not_null = df.dropna()"
   ]
  },
  {
   "cell_type": "markdown",
   "id": "9b3fc0a6",
   "metadata": {},
   "source": [
    "- Mostro nuovamente la distribuzione dei beni tra le varie destinazioni d'suo"
   ]
  },
  {
   "cell_type": "code",
   "execution_count": 16,
   "id": "ad174db7",
   "metadata": {},
   "outputs": [
    {
     "data": {
      "text/plain": [
       "RESIDENTIAL              132223\n",
       "STORAGE                   16915\n",
       "RETAIL                     7746\n",
       "LAND                       5812\n",
       "INDUSTRIAL                 2269\n",
       "HOTEL                       560\n",
       "AGRICULTURAL BUILDING       550\n",
       "Name: Destinazione_Uso, dtype: int64"
      ]
     },
     "execution_count": 16,
     "metadata": {},
     "output_type": "execute_result"
    }
   ],
   "source": [
    "df_not_null['Destinazione_Uso'].value_counts()"
   ]
  },
  {
   "cell_type": "markdown",
   "id": "3742b541",
   "metadata": {},
   "source": [
    "- Le **destinazioni d'uso Agricultural Building & Hotel** non hanno subito alcuna eliminazione di beni, dopo che le relative null values sono state bonificate utilizzando la media aritmetica per categoria."
   ]
  },
  {
   "cell_type": "markdown",
   "id": "14437efb",
   "metadata": {},
   "source": [
    "### 6 - Check del data frame ottenuto & Relative conclusioni"
   ]
  },
  {
   "cell_type": "code",
   "execution_count": 17,
   "id": "4fadbd95",
   "metadata": {},
   "outputs": [
    {
     "name": "stdout",
     "output_type": "stream",
     "text": [
      "- Il data frame è ora composto da N° beni: \u001b[1m \u001b[15;31;43m 166075 \u001b[0m\n",
      "- Sono stati quindi eliminati \u001b[1m \u001b[15;31;43m 27106 \u001b[0m beni che presentavano almeno una Null Values nelle colonne del data frame.\n"
     ]
    }
   ],
   "source": [
    "# Mostro quanti beni ho ottenuto all'interno del data frame dopo il drop delle null values:\n",
    "print(\"- Il data frame è ora composto da N° beni:\", '\\033[1m', '\\033[15;31;43m', df_not_null.shape[0], '\\033[0m')\n",
    "\n",
    "# Mostro il totale dei beni eliminati durante il drop:\n",
    "print(\"- Sono stati quindi eliminati\", '\\033[1m', '\\033[15;31;43m', 193181 - 166075, '\\033[0m',\n",
    "      \"beni che presentavano almeno una Null Values nelle colonne del data frame.\")"
   ]
  },
  {
   "cell_type": "code",
   "execution_count": 18,
   "id": "a5c330ca",
   "metadata": {},
   "outputs": [
    {
     "name": "stdout",
     "output_type": "stream",
     "text": [
      "<class 'pandas.core.frame.DataFrame'>\n",
      "Int64Index: 166075 entries, 0 to 193180\n",
      "Data columns (total 11 columns):\n",
      " #   Column               Non-Null Count   Dtype  \n",
      "---  ------               --------------   -----  \n",
      " 0   Destinazione_Uso     166075 non-null  object \n",
      " 1   Categoria_Catastale  166075 non-null  object \n",
      " 2   Tribunale            166075 non-null  object \n",
      " 3   Provincia            166075 non-null  object \n",
      " 4   Comune               166075 non-null  object \n",
      " 5   Numero_Lotto         166075 non-null  Int64  \n",
      " 6   Numero_Vani          166075 non-null  float64\n",
      " 7   Superficie           166075 non-null  float64\n",
      " 8   Catasto_Fabbricati   166075 non-null  bool   \n",
      " 9   Descrizione_Bene     166075 non-null  object \n",
      " 10  N_Caratteri          166075 non-null  int64  \n",
      "dtypes: Int64(1), bool(1), float64(2), int64(1), object(6)\n",
      "memory usage: 14.3+ MB\n"
     ]
    }
   ],
   "source": [
    "df_not_null.info()"
   ]
  },
  {
   "cell_type": "markdown",
   "id": "c6fcdf76",
   "metadata": {},
   "source": [
    "- Il data frame è composto da **166.075 righe** e da **11 colonne**.\n",
    "- **6 colonne sono Object**, quindi composte da dati testuali o categorici;\n",
    "- **1 colonna è di tipo Boolean**, inerente al fatto se il bene in questione è un fabbricato o un terreo (*Catasto_Fabbricato*);\n",
    "- **2 colonne float**, la prima per descrivere il numero dei vani e la seconda per la superficie del bene;\n",
    "- **2 colonne integer**, la prima per descrivere il N° del lotto in questione e la seconda per il N° di caratteri che vengono contanti nella descrizione del bene."
   ]
  },
  {
   "cell_type": "code",
   "execution_count": 19,
   "id": "ef4bc517",
   "metadata": {},
   "outputs": [
    {
     "data": {
      "text/plain": [
       "Destinazione_Uso       0\n",
       "Categoria_Catastale    0\n",
       "Tribunale              0\n",
       "Provincia              0\n",
       "Comune                 0\n",
       "Numero_Lotto           0\n",
       "Numero_Vani            0\n",
       "Superficie             0\n",
       "Catasto_Fabbricati     0\n",
       "Descrizione_Bene       0\n",
       "N_Caratteri            0\n",
       "dtype: int64"
      ]
     },
     "execution_count": 19,
     "metadata": {},
     "output_type": "execute_result"
    }
   ],
   "source": [
    "df_not_null.isnull().sum()"
   ]
  },
  {
   "cell_type": "markdown",
   "id": "045fc96b",
   "metadata": {},
   "source": [
    "- **Non esistono** più all'interno del data frame **null values** tra le varie colonne che la compongono."
   ]
  },
  {
   "cell_type": "code",
   "execution_count": 20,
   "id": "10d83bb1",
   "metadata": {},
   "outputs": [
    {
     "data": {
      "text/html": [
       "<div>\n",
       "<style scoped>\n",
       "    .dataframe tbody tr th:only-of-type {\n",
       "        vertical-align: middle;\n",
       "    }\n",
       "\n",
       "    .dataframe tbody tr th {\n",
       "        vertical-align: top;\n",
       "    }\n",
       "\n",
       "    .dataframe thead th {\n",
       "        text-align: right;\n",
       "    }\n",
       "</style>\n",
       "<table border=\"1\" class=\"dataframe\">\n",
       "  <thead>\n",
       "    <tr style=\"text-align: right;\">\n",
       "      <th></th>\n",
       "      <th>Numero_Lotto</th>\n",
       "      <th>Numero_Vani</th>\n",
       "      <th>Superficie</th>\n",
       "      <th>N_Caratteri</th>\n",
       "    </tr>\n",
       "  </thead>\n",
       "  <tbody>\n",
       "    <tr>\n",
       "      <th>count</th>\n",
       "      <td>166075.00</td>\n",
       "      <td>166075.00</td>\n",
       "      <td>166075.00</td>\n",
       "      <td>166075.00</td>\n",
       "    </tr>\n",
       "    <tr>\n",
       "      <th>mean</th>\n",
       "      <td>5.33</td>\n",
       "      <td>12.36</td>\n",
       "      <td>247.76</td>\n",
       "      <td>236.11</td>\n",
       "    </tr>\n",
       "    <tr>\n",
       "      <th>std</th>\n",
       "      <td>16.08</td>\n",
       "      <td>122.33</td>\n",
       "      <td>2447.02</td>\n",
       "      <td>289.89</td>\n",
       "    </tr>\n",
       "    <tr>\n",
       "      <th>min</th>\n",
       "      <td>1.00</td>\n",
       "      <td>0.00</td>\n",
       "      <td>1.00</td>\n",
       "      <td>3.00</td>\n",
       "    </tr>\n",
       "    <tr>\n",
       "      <th>25%</th>\n",
       "      <td>1.00</td>\n",
       "      <td>1.50</td>\n",
       "      <td>33.00</td>\n",
       "      <td>80.00</td>\n",
       "    </tr>\n",
       "    <tr>\n",
       "      <th>50%</th>\n",
       "      <td>1.00</td>\n",
       "      <td>4.50</td>\n",
       "      <td>90.00</td>\n",
       "      <td>159.00</td>\n",
       "    </tr>\n",
       "    <tr>\n",
       "      <th>75%</th>\n",
       "      <td>3.00</td>\n",
       "      <td>6.50</td>\n",
       "      <td>130.00</td>\n",
       "      <td>292.00</td>\n",
       "    </tr>\n",
       "    <tr>\n",
       "      <th>max</th>\n",
       "      <td>912.00</td>\n",
       "      <td>13595.00</td>\n",
       "      <td>271900.00</td>\n",
       "      <td>2998.00</td>\n",
       "    </tr>\n",
       "  </tbody>\n",
       "</table>\n",
       "</div>"
      ],
      "text/plain": [
       "       Numero_Lotto  Numero_Vani  Superficie  N_Caratteri\n",
       "count     166075.00    166075.00   166075.00    166075.00\n",
       "mean           5.33        12.36      247.76       236.11\n",
       "std           16.08       122.33     2447.02       289.89\n",
       "min            1.00         0.00        1.00         3.00\n",
       "25%            1.00         1.50       33.00        80.00\n",
       "50%            1.00         4.50       90.00       159.00\n",
       "75%            3.00         6.50      130.00       292.00\n",
       "max          912.00     13595.00   271900.00      2998.00"
      ]
     },
     "execution_count": 20,
     "metadata": {},
     "output_type": "execute_result"
    }
   ],
   "source": [
    "df_not_null.describe()"
   ]
  },
  {
   "cell_type": "markdown",
   "id": "312d8142",
   "metadata": {},
   "source": [
    "- **Mediamente i beni** sono composti (considerando ogni destinazione d'uso) da **12 vani**, su circa **247 Mq**;\n",
    "- Il **bene più piccolo** in dimensioni è di 1 Mq, mentre il più grande di 271.900 Mq;\n",
    "- Il **numero di vani più alto** presente è pari a 13.595, ovvero 271.900 Mq, probabilmente un outliers da esaminare più avanti durante la fase di **Exploration Data Analysis**;\n",
    "- Infine, i **testi sono mediamente lunghi 236 caratteri** per descrizione del bene, dove il minimo è composto da 3 caratteri, come i box precedentemente visti, oppure 2.998 come lunghezza massima, dopo aver eliminato quelli oltre i 3000 caratteri."
   ]
  },
  {
   "cell_type": "markdown",
   "id": "f76a9638",
   "metadata": {},
   "source": [
    "### 7 - Export data frame file CSV:"
   ]
  },
  {
   "cell_type": "code",
   "execution_count": 21,
   "id": "0ea8b19e",
   "metadata": {},
   "outputs": [],
   "source": [
    "df_csv = df_not_null.to_csv(\"D:\\\\Master_Cefriel_DS_AI_Monolo\\\\0_Project_Work\\\\Dataset\\\\6_Dataset_EDA_Pre_Bilanciamento\\\\Dataset_EDA_Pre_Bilanciamento.csv\",\n",
    "                   index=False)"
   ]
  }
 ],
 "metadata": {
  "kernelspec": {
   "display_name": "Python 3 (ipykernel)",
   "language": "python",
   "name": "python3"
  },
  "language_info": {
   "codemirror_mode": {
    "name": "ipython",
    "version": 3
   },
   "file_extension": ".py",
   "mimetype": "text/x-python",
   "name": "python",
   "nbconvert_exporter": "python",
   "pygments_lexer": "ipython3",
   "version": "3.9.7"
  }
 },
 "nbformat": 4,
 "nbformat_minor": 5
}
