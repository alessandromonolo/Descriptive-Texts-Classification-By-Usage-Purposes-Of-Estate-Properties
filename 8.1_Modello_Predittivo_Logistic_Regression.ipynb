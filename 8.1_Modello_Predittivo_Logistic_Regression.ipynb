{
 "cells": [
  {
   "cell_type": "markdown",
   "id": "3e1b2d5e",
   "metadata": {},
   "source": [
    "Progetto: **Classificazione di testi descrittivi per destinazione d'uso, inerenti ai beni sottoposti ad aste giudiziarie italiane.**\n",
    "\n",
    "Studente: **Alessandro Monolo** | *10439147*\n",
    "\n",
    "Relatore: Marco Brambilla\n",
    "\n",
    "Referente aziendale: Simone Redaelli\n",
    "\n",
    "Master: Data Science & Artificial Intelligence\n",
    "\n",
    "Università: Politecnico di Milano\n",
    "\n",
    "<hr style=\"border:1px solid black\">\n",
    "\n",
    "## Stratified Cross Validation, Train Test Split & Prediction Model con \"Logistic Regression\n",
    "\n",
    "\n",
    "- **1.** **Divido** il **data frame** in **X** e **y**, ovvero mettendo tutte le variabili numeriche ricavate in X e la target variable da predirre in y;\n",
    "\n",
    "\n",
    "- **2.** Apppico **StratifiedKFold** e **Train_Test Split** alle variabili indipendenti per poi applicare il modello supervisionato **Logistic Regression** per ottenere le **metriche di valutazione**;\n",
    "    - **StratifiedKFold** è una tecnica di **cross-validation** comunemente utilizzata nell'apprendimento automatico quando si lavora con **dataset sbilanciati**, come il mio, o quando si desidera garantire che ciascun fold (sottoinsieme) del dataset mantenga la stessa distribuzione delle classi del dataset originale. È particolarmente utile quando si desidera **valutare le prestazioni del proprio modello preservando la proporzione delle diverse classi**.\n",
    "    \n",
    "\n",
    "- **3.** Costituisco una **Confusion Matrix** per controllare quanti **errori** e **predizioni corrette** sono state performate;\n",
    "\n",
    "\n",
    "- **4.** Valutazione dei **Coefficienti** del modello **Logistic Regression**;\n",
    "\n",
    "\n",
    "- **5.** **Conclusioni**.\n",
    "\n",
    "\n",
    "<hr style=\"border:1px solid black\">\n",
    "\n",
    "**Importo le librerie che mi servono:**"
   ]
  },
  {
   "cell_type": "code",
   "execution_count": 1,
   "id": "5e569d19",
   "metadata": {},
   "outputs": [],
   "source": [
    "import numpy as np\n",
    "import matplotlib.pyplot as plt\n",
    "import pandas as pd\n",
    "from sklearn.model_selection import train_test_split\n",
    "from sklearn.model_selection import StratifiedKFold, cross_val_score\n",
    "from sklearn.linear_model import LogisticRegression\n",
    "from sklearn.metrics import classification_report, precision_score, f1_score, recall_score, confusion_matrix\n",
    "import seaborn as sns\n",
    "import matplotlib.pyplot as plt\n",
    "from matplotlib.pyplot import figure\n",
    "from scipy import stats"
   ]
  },
  {
   "cell_type": "markdown",
   "id": "30fc5940",
   "metadata": {},
   "source": [
    "#### Set pandas options:"
   ]
  },
  {
   "cell_type": "code",
   "execution_count": 2,
   "id": "79074e7a",
   "metadata": {},
   "outputs": [],
   "source": [
    "pd.set_option('display.max_colwidth', None)\n",
    "pd.options.display.max_rows = 5000\n",
    "pd.options.display.max_columns = 1000\n",
    "pd.options.display.float_format = '{:.6f}'.format\n",
    "pd.options.mode.chained_assignment = None"
   ]
  },
  {
   "cell_type": "markdown",
   "id": "b6c2d988",
   "metadata": {},
   "source": [
    "#### Importo il file CSV per modello: Linear Regrression"
   ]
  },
  {
   "cell_type": "code",
   "execution_count": 3,
   "id": "37d3bf55",
   "metadata": {},
   "outputs": [],
   "source": [
    "df_lr = pd.read_csv(\"D:\\\\Master_Cefriel_DS_AI_Monolo\\\\0_Project_Work\\\\Dataset\\\\9_Dataset_Logistic_Regression\\\\Dataset_Logistic_Regression.csv\")"
   ]
  },
  {
   "cell_type": "markdown",
   "id": "45325dad",
   "metadata": {},
   "source": [
    "<hr style=\"border:1px solid black\">\n",
    "\n",
    "### 1 - Divido il data frame in X e y, ovvero mettendo tutte le variabili numeriche ricavate in X e la target variable da predirre in y"
   ]
  },
  {
   "cell_type": "code",
   "execution_count": 4,
   "id": "0988caf2",
   "metadata": {},
   "outputs": [],
   "source": [
    "X_lr = df_lr.drop(columns=['Destinazione_Uso_Encoded', 'Catasto_Fabbricati_Int'])\n",
    "y_lr = df_lr['Destinazione_Uso_Encoded']"
   ]
  },
  {
   "cell_type": "markdown",
   "id": "7cd5f60e",
   "metadata": {},
   "source": [
    "- Dopo aver testato il modello con la colonna **\"Catasto_Fabbricati_Int\"**, noto che la classe **LAND** ha un'accuracy del 100% con tutte le fold (3, 5, 7, 10).\n",
    "- Quindi essendo strettamente identificante la classe LAND è corretto **eliminare** il campo dalla variabile X, ovvero dalle variabili indipendenti per il modello predittivo."
   ]
  },
  {
   "cell_type": "markdown",
   "id": "74465422",
   "metadata": {},
   "source": [
    "### 2- Apppico stratifiedKFold e Train Test Split alle variabili indipendenti per ottenere le metriche di valutazione inerenti al modello predittivo Logistic Regression:"
   ]
  },
  {
   "cell_type": "code",
   "execution_count": 5,
   "id": "f226af78",
   "metadata": {},
   "outputs": [
    {
     "name": "stdout",
     "output_type": "stream",
     "text": [
      "Classification Report, averaged over all folds:\n",
      "\n",
      "              precision    recall  f1-score   support\n",
      "\n",
      "           0       0.00      0.00      0.00       550\n",
      "           1       0.00      0.00      0.00       560\n",
      "           2       0.13      0.08      0.10      2269\n",
      "           3       0.98      0.83      0.90      5804\n",
      "           4       0.77      0.66      0.71    132207\n",
      "           5       0.02      0.00      0.00      7743\n",
      "           6       0.02      0.06      0.03     16907\n",
      "\n",
      "    accuracy                           0.56    166040\n",
      "   macro avg       0.27      0.23      0.25    166040\n",
      "weighted avg       0.65      0.56      0.60    166040\n",
      " \n",
      "\n",
      "Precision: 0.35\n",
      "Recall: 0.23\n",
      "F1-Score: 0.25\n"
     ]
    }
   ],
   "source": [
    "folds = StratifiedKFold(n_splits=5)\n",
    "\n",
    "score_precision = []\n",
    "score_f1 = []\n",
    "score_recall = []\n",
    "\n",
    "all_test_indices = []\n",
    "all_predictions = []\n",
    "\n",
    "for train_index, test_index in folds.split(X_lr, y_lr):\n",
    "    X_train, X_test, y_train, y_test = X_lr.iloc[train_index], X_lr.iloc[test_index], \\\n",
    "                                       y_lr.iloc[train_index], y_lr.iloc[test_index]\n",
    "    \n",
    "    logistic_model = LogisticRegression(solver='liblinear', multi_class='ovr', C=0.1, max_iter=1000)\n",
    "    logistic_model.fit(X_train, y_train)\n",
    "    lr_predictions = logistic_model.predict(X_test)\n",
    "    \n",
    "    precision = precision_score(y_test, lr_predictions, average='macro', zero_division=0)\n",
    "    recall = recall_score(y_test, lr_predictions, average='macro', zero_division=0)\n",
    "    f1 = f1_score(y_test, lr_predictions, average='macro', zero_division=0)    \n",
    "\n",
    "    score_precision.append(precision)\n",
    "    score_recall.append(recall)\n",
    "    score_f1.append(f1)\n",
    "    \n",
    "    all_test_indices.extend(test_index)\n",
    "    all_predictions.extend(lr_predictions)\n",
    "\n",
    "mean_precision = np.mean(score_precision)\n",
    "mean_recall = np.mean(score_recall)\n",
    "mean_f1 = np.mean(score_f1)    \n",
    "\n",
    "classification_report_str = classification_report(y_lr.iloc[all_test_indices], all_predictions, zero_division=0)\n",
    "\n",
    "print(\"Classification Report, averaged over all folds:\\n\")\n",
    "print(classification_report_str, \"\\n\")\n",
    "print(\"Precision:\", round(mean_precision, 2))\n",
    "print(\"Recall:\", round(mean_recall, 2))\n",
    "print(\"F1-Score:\", round(mean_f1, 2))"
   ]
  },
  {
   "cell_type": "markdown",
   "id": "179ab8b2",
   "metadata": {},
   "source": [
    "### 3 - Costituisco una confusion matrix per controllare quanti errori e predizioni corrette sono state eseguite"
   ]
  },
  {
   "cell_type": "code",
   "execution_count": 6,
   "id": "03fe2eb4",
   "metadata": {},
   "outputs": [
    {
     "data": {
      "image/png": "[encoded data removed]",
      "text/plain": [
       "<Figure size 1440x432 with 1 Axes>"
      ]
     },
     "metadata": {},
     "output_type": "display_data"
    }
   ],
   "source": [
    "cm_pred = confusion_matrix(y_lr.iloc[all_test_indices], all_predictions)\n",
    "cm_pred = pd.DataFrame(cm_pred,\n",
    "                       index=['AGRIC. BUILD. 0 - Actual','HOTEL 1 - Actual','INDUSTRIAL 2 - Actual','LAND 3 - Actual','RESIDENTIAL 4 - Actual','RETAIL 5 - Actual','STORAGE 6 - Actual'],\n",
    "                       columns = ['AGRIC. BUILD. 0 - Pre','HOTEL 1 - Pre','INDUSTRIAL 2 - Pre','LAND 3 - Pre','RESIDENTIAL 4 - Pre','RETAIL 5 - Pre','STORAGE 6 - Pre'])\n",
    "\n",
    "# Mostro la confusion matrix su una heatmap:\n",
    "sns.set(rc={'figure.figsize':(20,6)})\n",
    "heatmap = sns.heatmap(cm_pred, \n",
    "            annot=True, \n",
    "            cmap=\"Greens\", \n",
    "            fmt=\"d\", \n",
    "            xticklabels=['AGRIC. BUILD. 0 - Pre','HOTEL 1 - Pre','INDUSTRIAL 2 - Pre','LAND 3 - Pre','RESIDENTIAL 4 - Pre','RETAIL 5 - Pre','STORAGE 6 - Pre'], \n",
    "            yticklabels=['AGRIC. BUILD. 0 - Actual','HOTEL 1 - Actual','INDUSTRIAL 2 - Actual','LAND 3 - Actual','RESIDENTIAL 4 - Actual','RETAIL 5 - Actual','STORAGE 6 - Actual'],\n",
    "                     cbar=False)\n",
    "\n",
    "heatmap.set_xticklabels(heatmap.get_xticklabels(), fontsize=14)\n",
    "heatmap.set_yticklabels(heatmap.get_yticklabels(), fontsize=14)\n",
    "\n",
    "plt.tick_params(axis='x', labeltop=True, labelbottom=False)\n",
    "plt.tight_layout()\n",
    "plt.show()"
   ]
  },
  {
   "cell_type": "code",
   "execution_count": 9,
   "id": "222de4fc",
   "metadata": {},
   "outputs": [
    {
     "name": "stdout",
     "output_type": "stream",
     "text": [
      "Numero predizioni corrette:  93044\n",
      "Numero predizioni sbagliate:  72996\n"
     ]
    }
   ],
   "source": [
    "print(\"Numero predizioni corrette: \", 0+0+183+4839+86978+10+1034)\n",
    "print(\"Numero predizioni sbagliate: \", 166040-(0+0+183+4839+86978+10+1034))"
   ]
  },
  {
   "cell_type": "markdown",
   "id": "40cc471f",
   "metadata": {},
   "source": [
    "### 4 - Valutazione dei coefficienti del modello Logistic Regression"
   ]
  },
  {
   "cell_type": "code",
   "execution_count": 8,
   "id": "10721285",
   "metadata": {},
   "outputs": [
    {
     "data": {
      "text/plain": [
       "'Top 10 coefficients:'"
      ]
     },
     "metadata": {},
     "output_type": "display_data"
    },
    {
     "data": {
      "text/html": [
       "<div>\n",
       "<style scoped>\n",
       "    .dataframe tbody tr th:only-of-type {\n",
       "        vertical-align: middle;\n",
       "    }\n",
       "\n",
       "    .dataframe tbody tr th {\n",
       "        vertical-align: top;\n",
       "    }\n",
       "\n",
       "    .dataframe thead th {\n",
       "        text-align: right;\n",
       "    }\n",
       "</style>\n",
       "<table border=\"1\" class=\"dataframe\">\n",
       "  <thead>\n",
       "    <tr style=\"text-align: right;\">\n",
       "      <th></th>\n",
       "      <th>Feature</th>\n",
       "      <th>Coefficient</th>\n",
       "    </tr>\n",
       "  </thead>\n",
       "  <tbody>\n",
       "    <tr>\n",
       "      <th>14</th>\n",
       "      <td>Regione_Sicilia</td>\n",
       "      <td>1.930432</td>\n",
       "    </tr>\n",
       "    <tr>\n",
       "      <th>43</th>\n",
       "      <td>Provincia_CL</td>\n",
       "      <td>1.057195</td>\n",
       "    </tr>\n",
       "    <tr>\n",
       "      <th>290</th>\n",
       "      <td>Tribunale_TIVOLI</td>\n",
       "      <td>0.910581</td>\n",
       "    </tr>\n",
       "    <tr>\n",
       "      <th>156</th>\n",
       "      <td>Tribunale_CALTAGIRONE</td>\n",
       "      <td>0.873383</td>\n",
       "    </tr>\n",
       "    <tr>\n",
       "      <th>187</th>\n",
       "      <td>Tribunale_FOGGIA</td>\n",
       "      <td>0.863100</td>\n",
       "    </tr>\n",
       "  </tbody>\n",
       "</table>\n",
       "</div>"
      ],
      "text/plain": [
       "                   Feature  Coefficient\n",
       "14         Regione_Sicilia     1.930432\n",
       "43            Provincia_CL     1.057195\n",
       "290       Tribunale_TIVOLI     0.910581\n",
       "156  Tribunale_CALTAGIRONE     0.873383\n",
       "187       Tribunale_FOGGIA     0.863100"
      ]
     },
     "metadata": {},
     "output_type": "display_data"
    },
    {
     "data": {
      "text/plain": [
       "'Least 10 coefficients:'"
      ]
     },
     "metadata": {},
     "output_type": "display_data"
    },
    {
     "data": {
      "text/html": [
       "<div>\n",
       "<style scoped>\n",
       "    .dataframe tbody tr th:only-of-type {\n",
       "        vertical-align: middle;\n",
       "    }\n",
       "\n",
       "    .dataframe tbody tr th {\n",
       "        vertical-align: top;\n",
       "    }\n",
       "\n",
       "    .dataframe thead th {\n",
       "        text-align: right;\n",
       "    }\n",
       "</style>\n",
       "<table border=\"1\" class=\"dataframe\">\n",
       "  <thead>\n",
       "    <tr style=\"text-align: right;\">\n",
       "      <th></th>\n",
       "      <th>Feature</th>\n",
       "      <th>Coefficient</th>\n",
       "    </tr>\n",
       "  </thead>\n",
       "  <tbody>\n",
       "    <tr>\n",
       "      <th>77</th>\n",
       "      <td>Provincia_NAP</td>\n",
       "      <td>-0.712633</td>\n",
       "    </tr>\n",
       "    <tr>\n",
       "      <th>6</th>\n",
       "      <td>Regione_Lazio</td>\n",
       "      <td>-0.719120</td>\n",
       "    </tr>\n",
       "    <tr>\n",
       "      <th>238</th>\n",
       "      <td>Tribunale_PALERMO</td>\n",
       "      <td>-0.780119</td>\n",
       "    </tr>\n",
       "    <tr>\n",
       "      <th>15</th>\n",
       "      <td>Regione_Toscana</td>\n",
       "      <td>-0.824331</td>\n",
       "    </tr>\n",
       "    <tr>\n",
       "      <th>8</th>\n",
       "      <td>Regione_Lombardia</td>\n",
       "      <td>-0.919453</td>\n",
       "    </tr>\n",
       "  </tbody>\n",
       "</table>\n",
       "</div>"
      ],
      "text/plain": [
       "               Feature  Coefficient\n",
       "77       Provincia_NAP    -0.712633\n",
       "6        Regione_Lazio    -0.719120\n",
       "238  Tribunale_PALERMO    -0.780119\n",
       "15     Regione_Toscana    -0.824331\n",
       "8    Regione_Lombardia    -0.919453"
      ]
     },
     "metadata": {},
     "output_type": "display_data"
    }
   ],
   "source": [
    "coefficients = logistic_model.coef_\n",
    "Colonne_X_Lr = X_lr.columns.to_list()\n",
    "coef_dict = {'Feature': Colonne_X_Lr, 'Coefficient': coefficients[0]}\n",
    "coef_df = pd.DataFrame(coef_dict)\n",
    "coef_df = coef_df.sort_values(by='Coefficient', ascending=False)\n",
    "display('Top 10 coefficients:', coef_df.head(5))\n",
    "display('Least 10 coefficients:', coef_df.tail(5))"
   ]
  },
  {
   "cell_type": "markdown",
   "id": "b5cbc320",
   "metadata": {},
   "source": [
    "<hr style=\"border:1px solid black\">\n",
    "\n",
    "### 5 - Conclusioni\n",
    "\n",
    "Con **N° fold uguale a 5**, queste sono le metriche di valutazione del modello:\n",
    "\n",
    "- **Metrics**:\n",
    "    - Precision: 0.35;\n",
    "    - Recall: 0.23;\n",
    "    - <u>**F1-Score: 0.25**</u>;\n",
    "\n",
    "\n",
    "\n",
    "- **Logistic Regression Accuracy score Mean**: \n",
    "    - Mean Accuracy Score:  0.56;\n",
    "    \n",
    "\n",
    "- **Predizioni corrette** ed **Errori** e del modello:\n",
    "    - Numero predizioni corrette:  **93.044**;\n",
    "    - Numero predizioni sbagliate:  **72.996**;\n",
    "\n",
    "\n",
    "<hr style=\"border:1px solid black\">\n",
    "\n",
    "\n",
    "#### In conclusione\n",
    "\n",
    "\n",
    "- C'è una **buona quantità di predizione corrette** per quanto riguarda le classi: **Land**, **Residential**.\n",
    "- Una **scarsa predizione**, quasi vicina allo 0, per le classi: **Storage** e **Industrial**.\n",
    "- Infine, le predizioni praticamente **uguali a 0** sono inerenti alle classi: **Hotel**, **Agricultural Building** e **Retail**.\n",
    "\n",
    "- Il valore di riferimento relativo all'**accuracy** raggiunta è pari in questo caso a **0.56**;\n",
    "- Il **Benchmark** di riferimento in questo caso è **F1-Score**, pari a: **0.25**;\n",
    "    - *L'F1-Score è una metrica di valutazione utilizzata in machine learning per misurare la precisione di un modello di classificazione, come la logistic regression, sulla base delle previsioni effettuate dal modello. In particolare, l'F1-Score tiene conto di due importanti metriche di valutazione: la precision e il recall. Queste metriche sono calcolate a partire dalla matrice di confusione, che è una tabella che mostra il numero di veri positivi (TP), falsi positivi (FP), veri negativi (TN) e falsi negativi (FN) generati dal modello.*\n",
    "    - L'**F1-Score è particolarmente utile quando si tratta di problemi di classificazione in cui le classi sono sbilanciate** o quando si desidera trovare un equilibrio tra precisione e recall.\n",
    "    - In questo caso, viene impiegato il parametro **Average: \"Macro\"**, per conferire l' F1 Score di ogni classe la medesima importanza, a prescindere dal numero di osservazioni presenti per ogni singola classe della target variable.\n",
    "    \n",
    "\n",
    "- I **cinque coefficienti** con peso maggiore (**positivo**) sono i seguenti:\n",
    "    - *Regione_Sicilia*;\n",
    "    - *Provincia_CL*;\n",
    "    - *Tribunale_TIVOLI*;\n",
    "    - *Tribunale_CALTAGIRONE*;\n",
    "    - *Tribunale_FOGGIA*;\n",
    "    \n",
    "- I **cinque coefficienti** con peso maggiore (**negativo**) sono i seguenti:\n",
    "    - *Provincia_NAP*;\n",
    "    - *Regione_Lazio*;\n",
    "    - *Tribunale_PALERMO*;\n",
    "    - *Regione_Toscana*;\n",
    "    - *Regione_Lombardia*;\n",
    "    \n",
    "    \n",
    "- Le colonne inerenti all'ubicazione sia per **Regione**, per **Provincia** e per **Tribunale** di assegnazione, hanno in determinati casi un **ruolo importante nella fase di predizione delle classi**."
   ]
  }
 ],
 "metadata": {
  "kernelspec": {
   "display_name": "Python 3 (ipykernel)",
   "language": "python",
   "name": "python3"
  },
  "language_info": {
   "codemirror_mode": {
    "name": "ipython",
    "version": 3
   },
   "file_extension": ".py",
   "mimetype": "text/x-python",
   "name": "python",
   "nbconvert_exporter": "python",
   "pygments_lexer": "ipython3",
   "version": "3.9.7"
  }
 },
 "nbformat": 4,
 "nbformat_minor": 5
}
